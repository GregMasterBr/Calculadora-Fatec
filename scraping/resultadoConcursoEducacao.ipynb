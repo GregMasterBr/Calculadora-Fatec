{
 "cells": [
  {
   "cell_type": "code",
   "execution_count": 1,
   "metadata": {
    "ExecuteTime": {
     "end_time": "2021-02-16T19:10:57.522120Z",
     "start_time": "2021-02-16T19:10:42.308945Z"
    }
   },
   "outputs": [],
   "source": [
    "import requests\n",
    "from bs4 import BeautifulSoup as bs\n",
    "import pandas as pd\n",
    "from selenium import webdriver\n",
    "from selenium.webdriver.support.ui import Select\n",
    "import time\n",
    "from tqdm import tqdm"
   ]
  },
  {
   "cell_type": "code",
   "execution_count": null,
   "metadata": {},
   "outputs": [],
   "source": [
    "classificacao_geral_vest_fatec = webdriver.Chrome()\n",
    "classificacao_geral_vest_fatec.get(\"https://www.vestibularfatec.com.br/classificacao/fatec.asp\")"
   ]
  },
  {
   "cell_type": "raw",
   "metadata": {},
   "source": [
    "632 º AMANDA ALTAVA PALHARES 8091713-5 44774025 72,00 72,00\n",
    "https://noticias.sorocaba.sp.gov.br/jornal/\n",
    "\n",
    "https://documento.vunesp.com.br/documento/stream/MjAzNjYyMg%3d%3d\n",
    "\n",
    "\n",
    "A Prefeitura de Sorocaba e a Fundação para o Vestibular da Universidade Estadual Paulista “Júlio de\n",
    "Mesquita Filho” – Fundação VUNESP, relativo ao Concurso Público Nº 01/2020, para o cargo de DIRETOR\n",
    "DE ESCOLA, DIVULGAM o gabarito da prova objetiva realizada em 25 de outubro de 2020:\n",
    "\n",
    "HOMOLOGAÇÃO\n",
    "CONCURSO PÚBLICO\n",
    "EDITAL - Nº 01/2020"
   ]
  }
 ],
 "metadata": {
  "kernelspec": {
   "display_name": "Python 3",
   "language": "python",
   "name": "python3"
  },
  "language_info": {
   "codemirror_mode": {
    "name": "ipython",
    "version": 3
   },
   "file_extension": ".py",
   "mimetype": "text/x-python",
   "name": "python",
   "nbconvert_exporter": "python",
   "pygments_lexer": "ipython3",
   "version": "3.8.5"
  },
  "toc": {
   "base_numbering": 1,
   "nav_menu": {},
   "number_sections": true,
   "sideBar": true,
   "skip_h1_title": false,
   "title_cell": "Table of Contents",
   "title_sidebar": "Contents",
   "toc_cell": false,
   "toc_position": {},
   "toc_section_display": true,
   "toc_window_display": false
  }
 },
 "nbformat": 4,
 "nbformat_minor": 4
}
