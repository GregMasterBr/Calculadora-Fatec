{
 "cells": [
  {
   "cell_type": "markdown",
   "metadata": {},
   "source": [
    "## Load in the necessary libraries\n"
   ]
  },
  {
   "cell_type": "code",
   "execution_count": 337,
   "metadata": {
    "ExecuteTime": {
     "end_time": "2021-02-12T14:38:06.287453Z",
     "start_time": "2021-02-12T14:38:06.279451Z"
    }
   },
   "outputs": [],
   "source": [
    "import requests\n",
    "from bs4 import BeautifulSoup as bs\n",
    "import pandas as pd\n",
    "from selenium import webdriver\n",
    "from selenium.webdriver.support.ui import Select\n",
    "import time\n",
    "from tqdm import tqdm\n",
    "\n",
    "\n",
    "\n"
   ]
  },
  {
   "cell_type": "markdown",
   "metadata": {},
   "source": [
    "## Load our first page"
   ]
  },
  {
   "cell_type": "code",
   "execution_count": 338,
   "metadata": {
    "ExecuteTime": {
     "end_time": "2021-02-12T14:38:08.188302Z",
     "start_time": "2021-02-12T14:38:07.254398Z"
    }
   },
   "outputs": [
    {
     "data": {
      "text/plain": [
       "<option value=\"\">Selecione...</option>"
      ]
     },
     "execution_count": 338,
     "metadata": {},
     "output_type": "execute_result"
    }
   ],
   "source": [
    "# load the webpage content\n",
    "\n",
    "r = requests.get('https://www.vestibularfatec.com.br/classificacao/fatec.asp')\n",
    "\n",
    "#convert to a beautiful soup object\n",
    "\n",
    "soup = bs(r.content)\n",
    "\n",
    "#print(soup.prettify())\n",
    "\n",
    "#fatecs = soup.find_all(\"CodFatec option\")\n",
    "fatecs = soup.select(\"#CodFatec option\")\n",
    "#removi o option vazio\n",
    "fatecs.pop(0)\n",
    "#print((ftecs))"
   ]
  },
  {
   "cell_type": "code",
   "execution_count": 339,
   "metadata": {
    "ExecuteTime": {
     "end_time": "2021-02-12T14:38:11.089725Z",
     "start_time": "2021-02-12T14:38:11.067723Z"
    }
   },
   "outputs": [],
   "source": [
    "dfFatec = pd.DataFrame()\n",
    "#dfFatec.columns = ['id','fatec']\n",
    "objFatec = {} #construí um dicionário\n",
    "listaFatecs = [] #construí uma lista\n",
    "#dfFatec.head()\n",
    "\n",
    "for fatec in fatecs:\n",
    "    key = int(fatec['value'])\n",
    "    value= fatec.get_text()\n",
    "    objFatec[key] = str(value)\n",
    "    listaFatecs.append({'id':key,'fatec':value})\n",
    "    #print(fatec.string)\n",
    "    #print(fatec.get_text())\n",
    "    #print(fatec['value'])\n",
    "\n"
   ]
  },
  {
   "cell_type": "code",
   "execution_count": 340,
   "metadata": {
    "ExecuteTime": {
     "end_time": "2021-02-12T14:38:13.071363Z",
     "start_time": "2021-02-12T14:38:13.052363Z"
    }
   },
   "outputs": [],
   "source": [
    "#Criei uma DataFrame baseado na lista recém criada\n",
    "dfFatec = pd.DataFrame(listaFatecs)"
   ]
  },
  {
   "cell_type": "code",
   "execution_count": 341,
   "metadata": {
    "ExecuteTime": {
     "end_time": "2021-02-12T14:38:14.725265Z",
     "start_time": "2021-02-12T14:38:14.700244Z"
    }
   },
   "outputs": [
    {
     "data": {
      "text/html": [
       "<div>\n",
       "<style scoped>\n",
       "    .dataframe tbody tr th:only-of-type {\n",
       "        vertical-align: middle;\n",
       "    }\n",
       "\n",
       "    .dataframe tbody tr th {\n",
       "        vertical-align: top;\n",
       "    }\n",
       "\n",
       "    .dataframe thead th {\n",
       "        text-align: right;\n",
       "    }\n",
       "</style>\n",
       "<table border=\"1\" class=\"dataframe\">\n",
       "  <thead>\n",
       "    <tr style=\"text-align: right;\">\n",
       "      <th></th>\n",
       "      <th>id</th>\n",
       "      <th>fatec</th>\n",
       "    </tr>\n",
       "  </thead>\n",
       "  <tbody>\n",
       "    <tr>\n",
       "      <th>0</th>\n",
       "      <td>71</td>\n",
       "      <td>Adamantina - Fatec Adamantina</td>\n",
       "    </tr>\n",
       "    <tr>\n",
       "      <th>1</th>\n",
       "      <td>3</td>\n",
       "      <td>Americana - Fatec Americana - Ministro Ralph B...</td>\n",
       "    </tr>\n",
       "    <tr>\n",
       "      <th>2</th>\n",
       "      <td>35</td>\n",
       "      <td>Araçatuba - Fatec Araçatuba - Prof. Fernando A...</td>\n",
       "    </tr>\n",
       "    <tr>\n",
       "      <th>3</th>\n",
       "      <td>67</td>\n",
       "      <td>Araraquara - Fatec Araraquara</td>\n",
       "    </tr>\n",
       "    <tr>\n",
       "      <th>4</th>\n",
       "      <td>68</td>\n",
       "      <td>Araras - Fatec Araras</td>\n",
       "    </tr>\n",
       "  </tbody>\n",
       "</table>\n",
       "</div>"
      ],
      "text/plain": [
       "   id                                              fatec\n",
       "0  71                      Adamantina - Fatec Adamantina\n",
       "1   3  Americana - Fatec Americana - Ministro Ralph B...\n",
       "2  35  Araçatuba - Fatec Araçatuba - Prof. Fernando A...\n",
       "3  67                      Araraquara - Fatec Araraquara\n",
       "4  68                              Araras - Fatec Araras"
      ]
     },
     "execution_count": 341,
     "metadata": {},
     "output_type": "execute_result"
    }
   ],
   "source": [
    "dfFatec.head()"
   ]
  },
  {
   "cell_type": "code",
   "execution_count": 342,
   "metadata": {
    "ExecuteTime": {
     "end_time": "2021-02-12T14:38:16.936650Z",
     "start_time": "2021-02-12T14:38:16.914652Z"
    }
   },
   "outputs": [],
   "source": [
    "#salvo essa lista\n",
    "dfFatec.to_csv('ds/listaFatec.csv', sep=';',index=False)\n"
   ]
  },
  {
   "cell_type": "code",
   "execution_count": 343,
   "metadata": {
    "ExecuteTime": {
     "end_time": "2021-02-12T14:38:26.042906Z",
     "start_time": "2021-02-12T14:38:18.869526Z"
    }
   },
   "outputs": [
    {
     "data": {
      "text/html": [
       "<div>\n",
       "<style scoped>\n",
       "    .dataframe tbody tr th:only-of-type {\n",
       "        vertical-align: middle;\n",
       "    }\n",
       "\n",
       "    .dataframe tbody tr th {\n",
       "        vertical-align: top;\n",
       "    }\n",
       "\n",
       "    .dataframe thead th {\n",
       "        text-align: right;\n",
       "    }\n",
       "</style>\n",
       "<table border=\"1\" class=\"dataframe\">\n",
       "  <thead>\n",
       "    <tr style=\"text-align: right;\">\n",
       "      <th></th>\n",
       "      <th>id</th>\n",
       "      <th>curso</th>\n",
       "    </tr>\n",
       "  </thead>\n",
       "  <tbody>\n",
       "    <tr>\n",
       "      <th>0</th>\n",
       "      <td>245</td>\n",
       "      <td>Gestão Empresarial - EaD</td>\n",
       "    </tr>\n",
       "    <tr>\n",
       "      <th>1</th>\n",
       "      <td>247</td>\n",
       "      <td>Agroindústria</td>\n",
       "    </tr>\n",
       "    <tr>\n",
       "      <th>2</th>\n",
       "      <td>75</td>\n",
       "      <td>Agronegócio</td>\n",
       "    </tr>\n",
       "    <tr>\n",
       "      <th>3</th>\n",
       "      <td>76</td>\n",
       "      <td>Alimentos</td>\n",
       "    </tr>\n",
       "    <tr>\n",
       "      <th>4</th>\n",
       "      <td>266</td>\n",
       "      <td>Análise de Processos Agroindustriais</td>\n",
       "    </tr>\n",
       "  </tbody>\n",
       "</table>\n",
       "</div>"
      ],
      "text/plain": [
       "    id                                 curso\n",
       "0  245              Gestão Empresarial - EaD\n",
       "1  247                         Agroindústria\n",
       "2   75                          Agronegócio \n",
       "3   76                             Alimentos\n",
       "4  266  Análise de Processos Agroindustriais"
      ]
     },
     "execution_count": 343,
     "metadata": {},
     "output_type": "execute_result"
    }
   ],
   "source": [
    "dfCursos = pd.DataFrame()\n",
    "rCurso = requests.get('https://www.vestibularfatec.com.br/unidades-cursos/?q=')\n",
    "#convert to a beautiful soup object\n",
    "soupCurso = bs(rCurso.content)    \n",
    "divCursos = soupCurso.find(id = \"cursos\")\n",
    "\n",
    "listaCursos=divCursos.find_all(\"a\")\n",
    "listaCursosFatec = [{'id':245,'curso':'Gestão Empresarial - EaD'}]\n",
    "#listaCursosFatec = []\n",
    "\n",
    "for c in range (len(listaCursos)):\n",
    "    key = int((divCursos.find_all('a')[c]['href']).split(\"=\")[1])\n",
    "    value= divCursos.find_all(\"a\")[c].get_text()\n",
    "    listaCursosFatec.append({'id':key,'curso':value})\n",
    "#listaCursosFatec.appemd({'id':245,'curso':'Gestão Empresarial - EaD'})\n",
    "dfCursos = pd.DataFrame(listaCursosFatec)\n",
    "\n",
    "dfCursos.head()"
   ]
  },
  {
   "cell_type": "code",
   "execution_count": 344,
   "metadata": {
    "ExecuteTime": {
     "end_time": "2021-02-12T14:38:26.058904Z",
     "start_time": "2021-02-12T14:38:26.047906Z"
    }
   },
   "outputs": [],
   "source": [
    "dfCursos.to_csv('ds/listaCursos.csv', sep=';',index=False)\n"
   ]
  },
  {
   "cell_type": "code",
   "execution_count": 345,
   "metadata": {
    "ExecuteTime": {
     "end_time": "2021-02-12T14:38:36.103197Z",
     "start_time": "2021-02-12T14:38:28.562808Z"
    }
   },
   "outputs": [],
   "source": [
    "classificacao_geral_vest_fatec = webdriver.Chrome()\n",
    "\n",
    "classificacao_geral_vest_fatec.get(\"https://www.vestibularfatec.com.br/classificacao/fatec.asp\")"
   ]
  },
  {
   "cell_type": "code",
   "execution_count": 347,
   "metadata": {
    "ExecuteTime": {
     "end_time": "2021-02-12T14:38:51.963070Z",
     "start_time": "2021-02-12T14:38:51.914066Z"
    }
   },
   "outputs": [],
   "source": [
    "selectFatec = Select(classificacao_geral_vest_fatec.find_element_by_id('CodFatec'))\n",
    "\n",
    "select_id_fatecs = [fatec['value'] for fatec in fatecs]\n",
    "select_value_fatecs = [fatec.string for fatec in fatecs]\n"
   ]
  },
  {
   "cell_type": "code",
   "execution_count": 43,
   "metadata": {
    "ExecuteTime": {
     "end_time": "2021-02-12T01:56:32.147042Z",
     "start_time": "2021-02-12T01:56:32.040039Z"
    }
   },
   "outputs": [],
   "source": []
  },
  {
   "cell_type": "code",
   "execution_count": 348,
   "metadata": {
    "ExecuteTime": {
     "end_time": "2021-02-12T14:39:03.528831Z",
     "start_time": "2021-02-12T14:38:54.775675Z"
    }
   },
   "outputs": [
    {
     "name": "stderr",
     "output_type": "stream",
     "text": [
      "\r",
      "  0%|          | 0/73 [00:00<?, ?it/s]"
     ]
    },
    {
     "name": "stdout",
     "output_type": "stream",
     "text": [
      "Adamantina - Fatec Adamantina 0\n",
      "Ciência de Dados (Noite)\n"
     ]
    },
    {
     "name": "stderr",
     "output_type": "stream",
     "text": [
      "  0%|          | 0/73 [00:08<?, ?it/s]\n"
     ]
    },
    {
     "ename": "StaleElementReferenceException",
     "evalue": "Message: stale element reference: element is not attached to the page document\n  (Session info: chrome=88.0.4324.150)\n",
     "output_type": "error",
     "traceback": [
      "\u001b[1;31m---------------------------------------------------------------------------\u001b[0m",
      "\u001b[1;31mStaleElementReferenceException\u001b[0m            Traceback (most recent call last)",
      "\u001b[1;32m<ipython-input-348-4fb630cad56f>\u001b[0m in \u001b[0;36m<module>\u001b[1;34m\u001b[0m\n\u001b[0;32m     11\u001b[0m     \u001b[0mprint\u001b[0m\u001b[1;33m(\u001b[0m\u001b[0mfatec_\u001b[0m\u001b[1;33m,\u001b[0m \u001b[0mi\u001b[0m\u001b[1;33m)\u001b[0m\u001b[1;33m\u001b[0m\u001b[1;33m\u001b[0m\u001b[0m\n\u001b[0;32m     12\u001b[0m     \u001b[1;32mfor\u001b[0m \u001b[0mc\u001b[0m \u001b[1;32min\u001b[0m \u001b[0mrange\u001b[0m\u001b[1;33m(\u001b[0m\u001b[0mlen\u001b[0m \u001b[1;33m(\u001b[0m\u001b[0mselectCursos\u001b[0m\u001b[1;33m.\u001b[0m\u001b[0moptions\u001b[0m\u001b[1;33m)\u001b[0m\u001b[1;33m)\u001b[0m\u001b[1;33m:\u001b[0m\u001b[1;33m\u001b[0m\u001b[1;33m\u001b[0m\u001b[0m\n\u001b[1;32m---> 13\u001b[1;33m         \u001b[1;32mif\u001b[0m \u001b[1;34m'Selecione...'\u001b[0m \u001b[1;32mnot\u001b[0m \u001b[1;32min\u001b[0m \u001b[0mselectCursos\u001b[0m\u001b[1;33m.\u001b[0m\u001b[0moptions\u001b[0m\u001b[1;33m[\u001b[0m\u001b[0mc\u001b[0m\u001b[1;33m]\u001b[0m\u001b[1;33m.\u001b[0m\u001b[0mtext\u001b[0m\u001b[1;33m:\u001b[0m\u001b[1;33m\u001b[0m\u001b[1;33m\u001b[0m\u001b[0m\n\u001b[0m\u001b[0;32m     14\u001b[0m             \u001b[0mprint\u001b[0m\u001b[1;33m(\u001b[0m\u001b[0mselectCursos\u001b[0m\u001b[1;33m.\u001b[0m\u001b[0moptions\u001b[0m\u001b[1;33m[\u001b[0m\u001b[0mc\u001b[0m\u001b[1;33m]\u001b[0m\u001b[1;33m.\u001b[0m\u001b[0mtext\u001b[0m\u001b[1;33m)\u001b[0m\u001b[1;33m\u001b[0m\u001b[1;33m\u001b[0m\u001b[0m\n\u001b[0;32m     15\u001b[0m             \u001b[0mselectCursos\u001b[0m\u001b[1;33m.\u001b[0m\u001b[0mselect_by_visible_text\u001b[0m\u001b[1;33m(\u001b[0m\u001b[0mselectCursos\u001b[0m\u001b[1;33m.\u001b[0m\u001b[0moptions\u001b[0m\u001b[1;33m[\u001b[0m\u001b[0mc\u001b[0m\u001b[1;33m]\u001b[0m\u001b[1;33m.\u001b[0m\u001b[0mtext\u001b[0m\u001b[1;33m)\u001b[0m\u001b[1;33m\u001b[0m\u001b[1;33m\u001b[0m\u001b[0m\n",
      "\u001b[1;32m~\\anaconda3\\lib\\site-packages\\selenium\\webdriver\\support\\select.py\u001b[0m in \u001b[0;36moptions\u001b[1;34m(self)\u001b[0m\n\u001b[0;32m     45\u001b[0m     \u001b[1;32mdef\u001b[0m \u001b[0moptions\u001b[0m\u001b[1;33m(\u001b[0m\u001b[0mself\u001b[0m\u001b[1;33m)\u001b[0m\u001b[1;33m:\u001b[0m\u001b[1;33m\u001b[0m\u001b[1;33m\u001b[0m\u001b[0m\n\u001b[0;32m     46\u001b[0m         \u001b[1;34m\"\"\"Returns a list of all options belonging to this select tag\"\"\"\u001b[0m\u001b[1;33m\u001b[0m\u001b[1;33m\u001b[0m\u001b[0m\n\u001b[1;32m---> 47\u001b[1;33m         \u001b[1;32mreturn\u001b[0m \u001b[0mself\u001b[0m\u001b[1;33m.\u001b[0m\u001b[0m_el\u001b[0m\u001b[1;33m.\u001b[0m\u001b[0mfind_elements\u001b[0m\u001b[1;33m(\u001b[0m\u001b[0mBy\u001b[0m\u001b[1;33m.\u001b[0m\u001b[0mTAG_NAME\u001b[0m\u001b[1;33m,\u001b[0m \u001b[1;34m'option'\u001b[0m\u001b[1;33m)\u001b[0m\u001b[1;33m\u001b[0m\u001b[1;33m\u001b[0m\u001b[0m\n\u001b[0m\u001b[0;32m     48\u001b[0m \u001b[1;33m\u001b[0m\u001b[0m\n\u001b[0;32m     49\u001b[0m     \u001b[1;33m@\u001b[0m\u001b[0mproperty\u001b[0m\u001b[1;33m\u001b[0m\u001b[1;33m\u001b[0m\u001b[0m\n",
      "\u001b[1;32m~\\anaconda3\\lib\\site-packages\\selenium\\webdriver\\remote\\webelement.py\u001b[0m in \u001b[0;36mfind_elements\u001b[1;34m(self, by, value)\u001b[0m\n\u001b[0;32m    682\u001b[0m                 \u001b[0mvalue\u001b[0m \u001b[1;33m=\u001b[0m \u001b[1;34m'[name=\"%s\"]'\u001b[0m \u001b[1;33m%\u001b[0m \u001b[0mvalue\u001b[0m\u001b[1;33m\u001b[0m\u001b[1;33m\u001b[0m\u001b[0m\n\u001b[0;32m    683\u001b[0m \u001b[1;33m\u001b[0m\u001b[0m\n\u001b[1;32m--> 684\u001b[1;33m         return self._execute(Command.FIND_CHILD_ELEMENTS,\n\u001b[0m\u001b[0;32m    685\u001b[0m                              {\"using\": by, \"value\": value})['value']\n\u001b[0;32m    686\u001b[0m \u001b[1;33m\u001b[0m\u001b[0m\n",
      "\u001b[1;32m~\\anaconda3\\lib\\site-packages\\selenium\\webdriver\\remote\\webelement.py\u001b[0m in \u001b[0;36m_execute\u001b[1;34m(self, command, params)\u001b[0m\n\u001b[0;32m    631\u001b[0m             \u001b[0mparams\u001b[0m \u001b[1;33m=\u001b[0m \u001b[1;33m{\u001b[0m\u001b[1;33m}\u001b[0m\u001b[1;33m\u001b[0m\u001b[1;33m\u001b[0m\u001b[0m\n\u001b[0;32m    632\u001b[0m         \u001b[0mparams\u001b[0m\u001b[1;33m[\u001b[0m\u001b[1;34m'id'\u001b[0m\u001b[1;33m]\u001b[0m \u001b[1;33m=\u001b[0m \u001b[0mself\u001b[0m\u001b[1;33m.\u001b[0m\u001b[0m_id\u001b[0m\u001b[1;33m\u001b[0m\u001b[1;33m\u001b[0m\u001b[0m\n\u001b[1;32m--> 633\u001b[1;33m         \u001b[1;32mreturn\u001b[0m \u001b[0mself\u001b[0m\u001b[1;33m.\u001b[0m\u001b[0m_parent\u001b[0m\u001b[1;33m.\u001b[0m\u001b[0mexecute\u001b[0m\u001b[1;33m(\u001b[0m\u001b[0mcommand\u001b[0m\u001b[1;33m,\u001b[0m \u001b[0mparams\u001b[0m\u001b[1;33m)\u001b[0m\u001b[1;33m\u001b[0m\u001b[1;33m\u001b[0m\u001b[0m\n\u001b[0m\u001b[0;32m    634\u001b[0m \u001b[1;33m\u001b[0m\u001b[0m\n\u001b[0;32m    635\u001b[0m     \u001b[1;32mdef\u001b[0m \u001b[0mfind_element\u001b[0m\u001b[1;33m(\u001b[0m\u001b[0mself\u001b[0m\u001b[1;33m,\u001b[0m \u001b[0mby\u001b[0m\u001b[1;33m=\u001b[0m\u001b[0mBy\u001b[0m\u001b[1;33m.\u001b[0m\u001b[0mID\u001b[0m\u001b[1;33m,\u001b[0m \u001b[0mvalue\u001b[0m\u001b[1;33m=\u001b[0m\u001b[1;32mNone\u001b[0m\u001b[1;33m)\u001b[0m\u001b[1;33m:\u001b[0m\u001b[1;33m\u001b[0m\u001b[1;33m\u001b[0m\u001b[0m\n",
      "\u001b[1;32m~\\anaconda3\\lib\\site-packages\\selenium\\webdriver\\remote\\webdriver.py\u001b[0m in \u001b[0;36mexecute\u001b[1;34m(self, driver_command, params)\u001b[0m\n\u001b[0;32m    319\u001b[0m         \u001b[0mresponse\u001b[0m \u001b[1;33m=\u001b[0m \u001b[0mself\u001b[0m\u001b[1;33m.\u001b[0m\u001b[0mcommand_executor\u001b[0m\u001b[1;33m.\u001b[0m\u001b[0mexecute\u001b[0m\u001b[1;33m(\u001b[0m\u001b[0mdriver_command\u001b[0m\u001b[1;33m,\u001b[0m \u001b[0mparams\u001b[0m\u001b[1;33m)\u001b[0m\u001b[1;33m\u001b[0m\u001b[1;33m\u001b[0m\u001b[0m\n\u001b[0;32m    320\u001b[0m         \u001b[1;32mif\u001b[0m \u001b[0mresponse\u001b[0m\u001b[1;33m:\u001b[0m\u001b[1;33m\u001b[0m\u001b[1;33m\u001b[0m\u001b[0m\n\u001b[1;32m--> 321\u001b[1;33m             \u001b[0mself\u001b[0m\u001b[1;33m.\u001b[0m\u001b[0merror_handler\u001b[0m\u001b[1;33m.\u001b[0m\u001b[0mcheck_response\u001b[0m\u001b[1;33m(\u001b[0m\u001b[0mresponse\u001b[0m\u001b[1;33m)\u001b[0m\u001b[1;33m\u001b[0m\u001b[1;33m\u001b[0m\u001b[0m\n\u001b[0m\u001b[0;32m    322\u001b[0m             response['value'] = self._unwrap_value(\n\u001b[0;32m    323\u001b[0m                 response.get('value', None))\n",
      "\u001b[1;32m~\\anaconda3\\lib\\site-packages\\selenium\\webdriver\\remote\\errorhandler.py\u001b[0m in \u001b[0;36mcheck_response\u001b[1;34m(self, response)\u001b[0m\n\u001b[0;32m    240\u001b[0m                 \u001b[0malert_text\u001b[0m \u001b[1;33m=\u001b[0m \u001b[0mvalue\u001b[0m\u001b[1;33m[\u001b[0m\u001b[1;34m'alert'\u001b[0m\u001b[1;33m]\u001b[0m\u001b[1;33m.\u001b[0m\u001b[0mget\u001b[0m\u001b[1;33m(\u001b[0m\u001b[1;34m'text'\u001b[0m\u001b[1;33m)\u001b[0m\u001b[1;33m\u001b[0m\u001b[1;33m\u001b[0m\u001b[0m\n\u001b[0;32m    241\u001b[0m             \u001b[1;32mraise\u001b[0m \u001b[0mexception_class\u001b[0m\u001b[1;33m(\u001b[0m\u001b[0mmessage\u001b[0m\u001b[1;33m,\u001b[0m \u001b[0mscreen\u001b[0m\u001b[1;33m,\u001b[0m \u001b[0mstacktrace\u001b[0m\u001b[1;33m,\u001b[0m \u001b[0malert_text\u001b[0m\u001b[1;33m)\u001b[0m\u001b[1;33m\u001b[0m\u001b[1;33m\u001b[0m\u001b[0m\n\u001b[1;32m--> 242\u001b[1;33m         \u001b[1;32mraise\u001b[0m \u001b[0mexception_class\u001b[0m\u001b[1;33m(\u001b[0m\u001b[0mmessage\u001b[0m\u001b[1;33m,\u001b[0m \u001b[0mscreen\u001b[0m\u001b[1;33m,\u001b[0m \u001b[0mstacktrace\u001b[0m\u001b[1;33m)\u001b[0m\u001b[1;33m\u001b[0m\u001b[1;33m\u001b[0m\u001b[0m\n\u001b[0m\u001b[0;32m    243\u001b[0m \u001b[1;33m\u001b[0m\u001b[0m\n\u001b[0;32m    244\u001b[0m     \u001b[1;32mdef\u001b[0m \u001b[0m_value_or_default\u001b[0m\u001b[1;33m(\u001b[0m\u001b[0mself\u001b[0m\u001b[1;33m,\u001b[0m \u001b[0mobj\u001b[0m\u001b[1;33m,\u001b[0m \u001b[0mkey\u001b[0m\u001b[1;33m,\u001b[0m \u001b[0mdefault\u001b[0m\u001b[1;33m)\u001b[0m\u001b[1;33m:\u001b[0m\u001b[1;33m\u001b[0m\u001b[1;33m\u001b[0m\u001b[0m\n",
      "\u001b[1;31mStaleElementReferenceException\u001b[0m: Message: stale element reference: element is not attached to the page document\n  (Session info: chrome=88.0.4324.150)\n"
     ]
    }
   ],
   "source": [
    "\n",
    "for i in tqdm(range(len (dfFatec))):\n",
    "    #print(f'ATUALIZANDO O REGISTRO {i}', end='\\n\\n')\n",
    "    id_ = dfFatec.loc[i,'id']\n",
    "    fatec_ = dfFatec.loc[i,'fatec']\n",
    "    selectFatec.select_by_visible_text(fatec_)\n",
    "    #CLICAR NO BOTAO ENTRAR\n",
    "    classificacao_geral_vest_fatec.find_element_by_xpath('//*[@id=\"formClassificacao\"]/div[2]/button').click()\n",
    "    time.sleep(3)\n",
    "    \n",
    "    selectCursos = Select(classificacao_geral_vest_fatec.find_element_by_id('CodEscolaCurso'))\n",
    "    print(fatec_, i)\n",
    "    for c in range(len (selectCursos.options)):\n",
    "        if 'Selecione...' not in selectCursos.options[c].text:\n",
    "            print(selectCursos.options[c].text)\n",
    "            selectCursos.select_by_visible_text(selectCursos.options[c].text)    \n",
    "            classificacao_geral_vest_fatec.find_element_by_xpath('//*[@id=\"formClassificacao\"]/div[2]/button').click()   \n",
    "            time.sleep(2)   \n",
    "            url_lista_1chamada = classificacao_geral_vest_fatec.current_url\n",
    "            #url_lista_1chamada = 'https://www.vestibularfatec.com.br/classificacao/lista.asp'\n",
    "            url_lista_1chamada = (f'{url_lista_1chamada}?codfatec={id_}&codescolacurso={2005}&o=1')\n",
    "            classificacao_geral_vest_fatec.find_element_by_xpath('/html/body/div[2]/div/div[2]/div/ul/li[1]/a').click()   \n",
    "\n",
    "            #lista.asp?codfatec=1&codescolacurso=902&o=1\n",
    "        '''if 'Selecione...' not in selectCursos.options[c].text:\n",
    "            selectCursos.select_by_visible_text(row['curso'])    \n",
    "            classificacao_geral_vest_fatec.find_element_by_xpath('//*[@id=\"formClassificacao\"]/div[2]/button').click()   \n",
    "            time.sleep(2)\n",
    "        '''\n",
    "    classificacao_geral_vest_fatec.back()\n"
   ]
  },
  {
   "cell_type": "code",
   "execution_count": 282,
   "metadata": {
    "ExecuteTime": {
     "end_time": "2021-02-12T04:36:08.952452Z",
     "start_time": "2021-02-12T04:36:08.926460Z"
    }
   },
   "outputs": [
    {
     "data": {
      "text/html": [
       "<div>\n",
       "<style scoped>\n",
       "    .dataframe tbody tr th:only-of-type {\n",
       "        vertical-align: middle;\n",
       "    }\n",
       "\n",
       "    .dataframe tbody tr th {\n",
       "        vertical-align: top;\n",
       "    }\n",
       "\n",
       "    .dataframe thead th {\n",
       "        text-align: right;\n",
       "    }\n",
       "</style>\n",
       "<table border=\"1\" class=\"dataframe\">\n",
       "  <thead>\n",
       "    <tr style=\"text-align: right;\">\n",
       "      <th></th>\n",
       "      <th>id</th>\n",
       "      <th>curso</th>\n",
       "    </tr>\n",
       "  </thead>\n",
       "  <tbody>\n",
       "    <tr>\n",
       "      <th>0</th>\n",
       "      <td>245</td>\n",
       "      <td>Gestão Empresarial - EaD</td>\n",
       "    </tr>\n",
       "    <tr>\n",
       "      <th>1</th>\n",
       "      <td>247</td>\n",
       "      <td>Agroindústria</td>\n",
       "    </tr>\n",
       "    <tr>\n",
       "      <th>2</th>\n",
       "      <td>75</td>\n",
       "      <td>Agronegócio</td>\n",
       "    </tr>\n",
       "    <tr>\n",
       "      <th>3</th>\n",
       "      <td>76</td>\n",
       "      <td>Alimentos</td>\n",
       "    </tr>\n",
       "    <tr>\n",
       "      <th>4</th>\n",
       "      <td>266</td>\n",
       "      <td>Análise de Processos Agroindustriais</td>\n",
       "    </tr>\n",
       "  </tbody>\n",
       "</table>\n",
       "</div>"
      ],
      "text/plain": [
       "    id                                 curso\n",
       "0  245              Gestão Empresarial - EaD\n",
       "1  247                         Agroindústria\n",
       "2   75                          Agronegócio \n",
       "3   76                             Alimentos\n",
       "4  266  Análise de Processos Agroindustriais"
      ]
     },
     "execution_count": 282,
     "metadata": {},
     "output_type": "execute_result"
    }
   ],
   "source": [
    "dfCursos.head()"
   ]
  },
  {
   "cell_type": "code",
   "execution_count": 309,
   "metadata": {
    "ExecuteTime": {
     "end_time": "2021-02-12T05:04:09.484203Z",
     "start_time": "2021-02-12T05:04:09.408205Z"
    }
   },
   "outputs": [
    {
     "data": {
      "text/plain": [
       "3"
      ]
     },
     "execution_count": 309,
     "metadata": {},
     "output_type": "execute_result"
    }
   ],
   "source": [
    "selectCursos = Select(classificacao_geral_vest_fatec.find_element_by_id('CodEscolaCurso'))\n",
    "\n",
    "#selectCursos.options[2].text\n",
    "\n",
    "#del selectCursos.options[0]\n",
    "\n",
    "\n",
    "#selectCursos = selectCursos.options.pop(0)\n",
    "len(selectCursos.options)"
   ]
  },
  {
   "cell_type": "code",
   "execution_count": 310,
   "metadata": {
    "ExecuteTime": {
     "end_time": "2021-02-12T05:04:09.751204Z",
     "start_time": "2021-02-12T05:04:09.488209Z"
    }
   },
   "outputs": [
    {
     "ename": "NoSuchElementException",
     "evalue": "Message: Could not locate element with visible text: Gestão Empresarial - EaD\n",
     "output_type": "error",
     "traceback": [
      "\u001b[1;31m---------------------------------------------------------------------------\u001b[0m",
      "\u001b[1;31mNoSuchElementException\u001b[0m                    Traceback (most recent call last)",
      "\u001b[1;32m<ipython-input-310-9f8c254a4b29>\u001b[0m in \u001b[0;36m<module>\u001b[1;34m\u001b[0m\n\u001b[0;32m      3\u001b[0m \u001b[1;32mfor\u001b[0m \u001b[0mc\u001b[0m \u001b[1;32min\u001b[0m \u001b[0mrange\u001b[0m\u001b[1;33m(\u001b[0m\u001b[0mlen\u001b[0m \u001b[1;33m(\u001b[0m\u001b[0mselectCursos\u001b[0m\u001b[1;33m.\u001b[0m\u001b[0moptions\u001b[0m\u001b[1;33m)\u001b[0m\u001b[1;33m)\u001b[0m\u001b[1;33m:\u001b[0m\u001b[1;33m\u001b[0m\u001b[1;33m\u001b[0m\u001b[0m\n\u001b[0;32m      4\u001b[0m     \u001b[1;32mif\u001b[0m \u001b[1;34m'Selecione...'\u001b[0m \u001b[1;32mnot\u001b[0m \u001b[1;32min\u001b[0m \u001b[0mselectCursos\u001b[0m\u001b[1;33m.\u001b[0m\u001b[0moptions\u001b[0m\u001b[1;33m[\u001b[0m\u001b[0mc\u001b[0m\u001b[1;33m]\u001b[0m\u001b[1;33m.\u001b[0m\u001b[0mtext\u001b[0m\u001b[1;33m:\u001b[0m\u001b[1;33m\u001b[0m\u001b[1;33m\u001b[0m\u001b[0m\n\u001b[1;32m----> 5\u001b[1;33m         \u001b[0mselectCursos\u001b[0m\u001b[1;33m.\u001b[0m\u001b[0mselect_by_visible_text\u001b[0m\u001b[1;33m(\u001b[0m\u001b[0mrow\u001b[0m\u001b[1;33m[\u001b[0m\u001b[1;34m'curso'\u001b[0m\u001b[1;33m]\u001b[0m\u001b[1;33m)\u001b[0m\u001b[1;33m\u001b[0m\u001b[1;33m\u001b[0m\u001b[0m\n\u001b[0m\u001b[0;32m      6\u001b[0m         \u001b[0mclassificacao_geral_vest_fatec\u001b[0m\u001b[1;33m.\u001b[0m\u001b[0mfind_element_by_xpath\u001b[0m\u001b[1;33m(\u001b[0m\u001b[1;34m'//*[@id=\"formClassificacao\"]/div[2]/button'\u001b[0m\u001b[1;33m)\u001b[0m\u001b[1;33m.\u001b[0m\u001b[0mclick\u001b[0m\u001b[1;33m(\u001b[0m\u001b[1;33m)\u001b[0m\u001b[1;33m\u001b[0m\u001b[1;33m\u001b[0m\u001b[0m\n\u001b[0;32m      7\u001b[0m         \u001b[0mtime\u001b[0m\u001b[1;33m.\u001b[0m\u001b[0msleep\u001b[0m\u001b[1;33m(\u001b[0m\u001b[1;36m2\u001b[0m\u001b[1;33m)\u001b[0m\u001b[1;33m\u001b[0m\u001b[1;33m\u001b[0m\u001b[0m\n",
      "\u001b[1;32m~\\anaconda3\\lib\\site-packages\\selenium\\webdriver\\support\\select.py\u001b[0m in \u001b[0;36mselect_by_visible_text\u001b[1;34m(self, text)\u001b[0m\n\u001b[0;32m    138\u001b[0m \u001b[1;33m\u001b[0m\u001b[0m\n\u001b[0;32m    139\u001b[0m         \u001b[1;32mif\u001b[0m \u001b[1;32mnot\u001b[0m \u001b[0mmatched\u001b[0m\u001b[1;33m:\u001b[0m\u001b[1;33m\u001b[0m\u001b[1;33m\u001b[0m\u001b[0m\n\u001b[1;32m--> 140\u001b[1;33m             \u001b[1;32mraise\u001b[0m \u001b[0mNoSuchElementException\u001b[0m\u001b[1;33m(\u001b[0m\u001b[1;34m\"Could not locate element with visible text: %s\"\u001b[0m \u001b[1;33m%\u001b[0m \u001b[0mtext\u001b[0m\u001b[1;33m)\u001b[0m\u001b[1;33m\u001b[0m\u001b[1;33m\u001b[0m\u001b[0m\n\u001b[0m\u001b[0;32m    141\u001b[0m \u001b[1;33m\u001b[0m\u001b[0m\n\u001b[0;32m    142\u001b[0m     \u001b[1;32mdef\u001b[0m \u001b[0mdeselect_all\u001b[0m\u001b[1;33m(\u001b[0m\u001b[0mself\u001b[0m\u001b[1;33m)\u001b[0m\u001b[1;33m:\u001b[0m\u001b[1;33m\u001b[0m\u001b[1;33m\u001b[0m\u001b[0m\n",
      "\u001b[1;31mNoSuchElementException\u001b[0m: Message: Could not locate element with visible text: Gestão Empresarial - EaD\n"
     ]
    }
   ],
   "source": [
    "selectCursos = Select(classificacao_geral_vest_fatec.find_element_by_id('CodEscolaCurso'))\n",
    "\n",
    "for c in range(len (selectCursos.options)):\n",
    "    if 'Selecione...' not in selectCursos.options[c].text:\n",
    "        selectCursos.select_by_visible_text(row['curso'])    \n",
    "        classificacao_geral_vest_fatec.find_element_by_xpath('//*[@id=\"formClassificacao\"]/div[2]/button').click()   \n",
    "        time.sleep(2)"
   ]
  },
  {
   "cell_type": "code",
   "execution_count": 328,
   "metadata": {
    "ExecuteTime": {
     "end_time": "2021-02-12T05:07:38.721411Z",
     "start_time": "2021-02-12T05:07:38.676390Z"
    },
    "code_folding": []
   },
   "outputs": [
    {
     "ename": "AttributeError",
     "evalue": "'WebElement' object has no attribute 'value'",
     "output_type": "error",
     "traceback": [
      "\u001b[1;31m---------------------------------------------------------------------------\u001b[0m",
      "\u001b[1;31mAttributeError\u001b[0m                            Traceback (most recent call last)",
      "\u001b[1;32m<ipython-input-328-656e181e4df2>\u001b[0m in \u001b[0;36m<module>\u001b[1;34m\u001b[0m\n\u001b[1;32m----> 1\u001b[1;33m \u001b[0mselectCursos\u001b[0m\u001b[1;33m.\u001b[0m\u001b[0moptions\u001b[0m\u001b[1;33m[\u001b[0m\u001b[1;36m1\u001b[0m\u001b[1;33m]\u001b[0m\u001b[1;33m.\u001b[0m\u001b[0mvalue\u001b[0m\u001b[1;33m\u001b[0m\u001b[1;33m\u001b[0m\u001b[0m\n\u001b[0m\u001b[0;32m      2\u001b[0m \u001b[1;33m\u001b[0m\u001b[0m\n\u001b[0;32m      3\u001b[0m     \u001b[1;31m#print(fatec.string)\u001b[0m\u001b[1;33m\u001b[0m\u001b[1;33m\u001b[0m\u001b[1;33m\u001b[0m\u001b[0m\n\u001b[0;32m      4\u001b[0m     \u001b[1;31m#print(fatec.get_text())\u001b[0m\u001b[1;33m\u001b[0m\u001b[1;33m\u001b[0m\u001b[1;33m\u001b[0m\u001b[0m\n",
      "\u001b[1;31mAttributeError\u001b[0m: 'WebElement' object has no attribute 'value'"
     ]
    }
   ],
   "source": [
    "selectCursos.options[1].value\n",
    "\n",
    "    #print(fatec.string)\n",
    "    #print(fatec.get_text())"
   ]
  },
  {
   "cell_type": "code",
   "execution_count": null,
   "metadata": {
    "ExecuteTime": {
     "end_time": "2021-02-12T03:11:38.200282Z",
     "start_time": "2021-02-12T03:11:37.225Z"
    }
   },
   "outputs": [],
   "source": [
    "body = soup.find('body')\n",
    "#print(body.prettify())\n",
    "#body.p"
   ]
  },
  {
   "cell_type": "code",
   "execution_count": 208,
   "metadata": {
    "ExecuteTime": {
     "end_time": "2021-02-12T03:59:52.051182Z",
     "start_time": "2021-02-12T03:59:52.013181Z"
    }
   },
   "outputs": [
    {
     "data": {
      "text/plain": [
       "'https://www.vestibularfatec.com.br/classificacao/lista.asp'"
      ]
     },
     "execution_count": 208,
     "metadata": {},
     "output_type": "execute_result"
    }
   ],
   "source": [
    "classificacao_geral_vest_fatec.current_url"
   ]
  },
  {
   "cell_type": "code",
   "execution_count": 316,
   "metadata": {
    "ExecuteTime": {
     "end_time": "2021-02-12T05:05:31.498399Z",
     "start_time": "2021-02-12T05:05:31.481403Z"
    }
   },
   "outputs": [
    {
     "ename": "SyntaxError",
     "evalue": "invalid syntax (<ipython-input-316-a70d0e817268>, line 1)",
     "output_type": "error",
     "traceback": [
      "\u001b[1;36m  File \u001b[1;32m\"<ipython-input-316-a70d0e817268>\"\u001b[1;36m, line \u001b[1;32m1\u001b[0m\n\u001b[1;33m    selectCursos.options[0].\u001b[0m\n\u001b[1;37m                            ^\u001b[0m\n\u001b[1;31mSyntaxError\u001b[0m\u001b[1;31m:\u001b[0m invalid syntax\n"
     ]
    }
   ],
   "source": [
    "selectCursos.options[0]."
   ]
  },
  {
   "cell_type": "code",
   "execution_count": null,
   "metadata": {
    "ExecuteTime": {
     "end_time": "2021-02-12T03:59:56.321571Z",
     "start_time": "2021-02-12T03:59:56.276923Z"
    }
   },
   "outputs": [],
   "source": []
  },
  {
   "cell_type": "code",
   "execution_count": null,
   "metadata": {
    "ExecuteTime": {
     "end_time": "2021-02-12T04:00:00.123127Z",
     "start_time": "2021-02-12T04:00:00.104130Z"
    }
   },
   "outputs": [],
   "source": []
  },
  {
   "cell_type": "code",
   "execution_count": null,
   "metadata": {
    "ExecuteTime": {
     "end_time": "2021-02-12T03:14:17.465431Z",
     "start_time": "2021-02-12T03:14:17.431424Z"
    }
   },
   "outputs": [],
   "source": []
  },
  {
   "cell_type": "code",
   "execution_count": null,
   "metadata": {
    "ExecuteTime": {
     "end_time": "2021-02-12T03:15:22.485909Z",
     "start_time": "2021-02-12T03:15:22.475904Z"
    }
   },
   "outputs": [],
   "source": []
  },
  {
   "cell_type": "code",
   "execution_count": null,
   "metadata": {
    "ExecuteTime": {
     "end_time": "2021-02-12T03:55:11.268251Z",
     "start_time": "2021-02-12T03:55:10.089847Z"
    }
   },
   "outputs": [],
   "source": []
  },
  {
   "cell_type": "code",
   "execution_count": 212,
   "metadata": {
    "ExecuteTime": {
     "end_time": "2021-02-12T04:00:17.982599Z",
     "start_time": "2021-02-12T04:00:17.970602Z"
    }
   },
   "outputs": [
    {
     "data": {
      "text/plain": [
       "'curso.asp?c=247'"
      ]
     },
     "execution_count": 212,
     "metadata": {},
     "output_type": "execute_result"
    }
   ],
   "source": [
    "divCursos.find_all('a')[0]['href']\n",
    "#divCursos.find_all('a')[0].contents[0]\n",
    "#divCursos.find_all(\"a\")[2].get_text()\n",
    "#len (listaCursos)"
   ]
  },
  {
   "cell_type": "code",
   "execution_count": 192,
   "metadata": {
    "ExecuteTime": {
     "end_time": "2021-02-12T03:40:47.533840Z",
     "start_time": "2021-02-12T03:40:47.519839Z"
    }
   },
   "outputs": [
    {
     "ename": "IndentationError",
     "evalue": "unexpected indent (<ipython-input-192-4477cc19bad4>, line 4)",
     "output_type": "error",
     "traceback": [
      "\u001b[1;36m  File \u001b[1;32m\"<ipython-input-192-4477cc19bad4>\"\u001b[1;36m, line \u001b[1;32m4\u001b[0m\n\u001b[1;33m    print(div.find('a')['href'])\u001b[0m\n\u001b[1;37m    ^\u001b[0m\n\u001b[1;31mIndentationError\u001b[0m\u001b[1;31m:\u001b[0m unexpected indent\n"
     ]
    }
   ],
   "source": [
    "divCursos.find_all(\"a\")\n",
    "\n",
    "\n",
    "    print(div.find('a')['href'])\n",
    "    print(div.find('a').contents[0])"
   ]
  },
  {
   "cell_type": "code",
   "execution_count": 193,
   "metadata": {
    "ExecuteTime": {
     "end_time": "2021-02-12T03:40:54.528537Z",
     "start_time": "2021-02-12T03:40:54.524535Z"
    }
   },
   "outputs": [],
   "source": []
  },
  {
   "cell_type": "code",
   "execution_count": 194,
   "metadata": {
    "ExecuteTime": {
     "end_time": "2021-02-12T03:43:24.329029Z",
     "start_time": "2021-02-12T03:43:24.321053Z"
    }
   },
   "outputs": [],
   "source": []
  },
  {
   "cell_type": "code",
   "execution_count": null,
   "metadata": {
    "ExecuteTime": {
     "end_time": "2021-02-12T03:43:27.933321Z",
     "start_time": "2021-02-12T03:43:27.924326Z"
    }
   },
   "outputs": [],
   "source": [
    "\n"
   ]
  },
  {
   "cell_type": "code",
   "execution_count": null,
   "metadata": {
    "ExecuteTime": {
     "end_time": "2021-02-12T03:43:37.234963Z",
     "start_time": "2021-02-12T03:43:37.226983Z"
    }
   },
   "outputs": [],
   "source": [
    "https://www.vestibularfatec.com.br/classificacao/lista.asp?codfatec=2&codescolacurso=2005&o=1\n",
    "    "
   ]
  },
  {
   "cell_type": "code",
   "execution_count": 335,
   "metadata": {
    "ExecuteTime": {
     "end_time": "2021-02-12T14:35:24.623145Z",
     "start_time": "2021-02-12T14:35:24.613148Z"
    }
   },
   "outputs": [
    {
     "data": {
      "text/plain": [
       "'https://www.vestibularfatec.com.br/classificacao/lista.asp?codfatec=123&codescolacurso=2005&o=1'"
      ]
     },
     "execution_count": 335,
     "metadata": {},
     "output_type": "execute_result"
    }
   ],
   "source": [
    "url_lista_1chamada = 'https://www.vestibularfatec.com.br/classificacao/lista.asp'\n",
    "url_lista_1chamada = (f'{url_lista_1chamada}?codfatec={123}&codescolacurso={2005}&o=1')\n",
    "url_lista_1chamada\n",
    "#lista.asp?codfatec=1&codescolacurso=902&o=1"
   ]
  },
  {
   "cell_type": "code",
   "execution_count": null,
   "metadata": {},
   "outputs": [],
   "source": [
    "for i, row in dfFatec.iterrows():\n",
    "    print(row['id'], row['fatec'])\n",
    "    id_ = row['id']\n",
    "    fatec_ = row['fatec']\n",
    "    selectFatecs.select_by_visible_text(fatec_)\n",
    "    #CLICAR NO BOTAO ENTRAR\n",
    "    classificacao_geral_vest_fatec.find_element_by_xpath('//*[@id=\"formClassificacao\"]/div[2]/button').click()\n",
    "    time.sleep(5)\n",
    "\n",
    "    #selectCursos = popularSelect(classificacao_geral_vest_fatec,'CodEscolaCurso')\n",
    "    selectCursos = Select(classificacao_geral_vest_fatec.find_element_by_id('CodEscolaCurso'))\n",
    "\n",
    "    time.sleep(2)\n",
    "    print(f'quantidade de cursos {len(selectCursos.options)}')\n",
    "    \n",
    "    for c, row2 in enumerate(selectCursos.options):\n",
    "    #for c in range(len (selectCursos.options)):\n",
    "        if 'Selecione...' not in row2.text:\n",
    "            print(f'{fatec_} - {row2.text}')\n",
    "            \n",
    "            selectCursos.select_by_visible_text(row2.text)\n",
    "                                  \n",
    "            classificacao_geral_vest_fatec.find_element_by_xpath('//*[@id=\"formClassificacao\"]/div[2]/button').click()   \n",
    "            \n",
    "            #time.sleep(2)   \n",
    "            #url_lista_1chamada = classificacao_geral_vest_fatec.current_url\n",
    "            #cod_curso = int(row2.get_attribute(\"value\"))\n",
    "            #url_lista_1chamada = (f'{url_lista_1chamada}?codfatec={id_}&codescolacurso={cod_curso}&o=1')\n",
    "            #classificacao_geral_vest_fatec.find_element_by_xpath('/html/body/div[2]/div/div[2]/div/ul/li[1]/a').click()   \n",
    "\n",
    "            #content = classificacao_geral_vest_fatec.page_source\n",
    "           # with open(f'{fatec_}_{selectCursos.options[c].text}.html', 'w') as f:\n",
    "                #f.write(content)\n",
    "               # time.sleep(1)\n",
    "            time.sleep(2)\n",
    "        classificacao_geral_vest_fatec.back()\n",
    "        time.sleep(1)\n",
    "    classificacao_geral_vest_fatec.back()\n",
    "    time.sleep(2)"
   ]
  },
  {
   "cell_type": "code",
   "execution_count": 1,
   "metadata": {
    "ExecuteTime": {
     "end_time": "2021-02-13T22:21:58.743104Z",
     "start_time": "2021-02-13T22:21:58.717108Z"
    }
   },
   "outputs": [],
   "source": [
    "case='12'"
   ]
  },
  {
   "cell_type": "code",
   "execution_count": 4,
   "metadata": {
    "ExecuteTime": {
     "end_time": "2021-02-13T22:22:11.752271Z",
     "start_time": "2021-02-13T22:22:11.730272Z"
    }
   },
   "outputs": [
    {
     "data": {
      "text/plain": [
       "False"
      ]
     },
     "execution_count": 4,
     "metadata": {},
     "output_type": "execute_result"
    }
   ],
   "source": [
    "case.isdigit()"
   ]
  },
  {
   "cell_type": "code",
   "execution_count": 3,
   "metadata": {
    "ExecuteTime": {
     "end_time": "2021-02-13T22:22:09.773290Z",
     "start_time": "2021-02-13T22:22:09.764286Z"
    }
   },
   "outputs": [],
   "source": [
    "case='abc'\n"
   ]
  },
  {
   "cell_type": "code",
   "execution_count": null,
   "metadata": {},
   "outputs": [],
   "source": []
  }
 ],
 "metadata": {
  "kernelspec": {
   "display_name": "Python 3",
   "language": "python",
   "name": "python3"
  },
  "language_info": {
   "codemirror_mode": {
    "name": "ipython",
    "version": 3
   },
   "file_extension": ".py",
   "mimetype": "text/x-python",
   "name": "python",
   "nbconvert_exporter": "python",
   "pygments_lexer": "ipython3",
   "version": "3.8.5"
  },
  "toc": {
   "base_numbering": 1,
   "nav_menu": {},
   "number_sections": true,
   "sideBar": true,
   "skip_h1_title": false,
   "title_cell": "Table of Contents",
   "title_sidebar": "Contents",
   "toc_cell": false,
   "toc_position": {},
   "toc_section_display": true,
   "toc_window_display": false
  }
 },
 "nbformat": 4,
 "nbformat_minor": 4
}
