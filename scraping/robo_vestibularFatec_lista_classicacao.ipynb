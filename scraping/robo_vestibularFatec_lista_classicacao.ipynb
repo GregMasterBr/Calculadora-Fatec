{
 "cells": [
  {
   "cell_type": "markdown",
   "metadata": {},
   "source": [
    "# CARREGAR BIBLIOTECAS"
   ]
  },
  {
   "cell_type": "code",
   "execution_count": 1,
   "metadata": {
    "ExecuteTime": {
     "end_time": "2021-02-14T23:41:30.548708Z",
     "start_time": "2021-02-14T23:41:26.912906Z"
    }
   },
   "outputs": [],
   "source": [
    "import requests\n",
    "from bs4 import BeautifulSoup as bs\n",
    "import pandas as pd\n",
    "from selenium import webdriver\n",
    "from selenium.webdriver.support.ui import Select\n",
    "import time\n",
    "from tqdm import tqdm\n"
   ]
  },
  {
   "cell_type": "markdown",
   "metadata": {},
   "source": [
    "# FUNÇÕES "
   ]
  },
  {
   "cell_type": "code",
   "execution_count": 14,
   "metadata": {
    "ExecuteTime": {
     "end_time": "2021-02-14T23:54:34.131428Z",
     "start_time": "2021-02-14T23:54:34.115426Z"
    }
   },
   "outputs": [],
   "source": [
    "def salvandoDadosVestibularDFtoCSV(df_,nome_arq,path='ds'):\n",
    "    df_.to_csv(f'{path}/{nome_arq}.csv', sep=';',index=False)\n",
    "\n",
    "# precisa deixar global\n",
    "def urlListaClassificacaoVestibular(url):\n",
    "    driver = webdriver.Chrome()\n",
    "    return driver.get(url)\n",
    "\n",
    "def popularSelect(driver,id_Xpath):\n",
    "    return  Select(driver.find_element_by_id(f'{id_Xpath}'))\n",
    "\n",
    "def criarDicionario(select_,fields):\n",
    "    lista_ = [] \n",
    "    for c in range(len (select_.options)):\n",
    "        if 'Selecione...' not in select_.options[c].text:\n",
    "            #key_ = int(select_.options[c].get_attribute(\"value\"))\n",
    "            key_= (int(select_.options[c].get_attribute(\"value\")) if select_.options[c].get_attribute(\"value\").isdigit() == True  else c)\n",
    "            value_= select_.options[c].text\n",
    "            lista_.append({fields[0]:key_,fields[1]:value_})\n",
    "    return lista_\n",
    "\n",
    "def criarDataFrame(l):\n",
    "     return pd.DataFrame(l)\n",
    "    \n",
    "def buscarCursosPopular(url_cursos):\n",
    "    rCurso = requests.get(url_cursos)\n",
    "    soupCurso = bs(rCurso.content)    \n",
    "    divCursos = soupCurso.find(id = \"cursos\")\n",
    "    lista_links=divCursos.find_all(\"a\")\n",
    "    lista_ = [{'id':245,'curso':'Gestão Empresarial - EaD'}]\n",
    "    \n",
    "    for c in range (len(lista_links)):\n",
    "        key = int((divCursos.find_all('a')[c]['href']).split(\"=\")[1])\n",
    "        value= divCursos.find_all(\"a\")[c].get_text()\n",
    "        lista_.append({'id':key,'curso':value})\n",
    "        \n",
    "    return salvandoDadosVestibularDFtoCSV(criarDataFrame(lista_),'listaCursos')\n",
    "\n",
    "def ajustarNota(detalhe_nota):\n",
    "    return detalhe_nota.text.upper().split(' ')[-6]\n",
    "\n",
    "def curso_periodo(txt):\n",
    "    #recebe uma string, faz uma lógica para separar em duas partes. Devolvendo um array de 2 itens. O índice 0 é o curso e o outro o período.\n",
    "    return (txt.replace(\")\", \"\")).split('(')\n",
    "\n"
   ]
  },
  {
   "cell_type": "code",
   "execution_count": 15,
   "metadata": {
    "ExecuteTime": {
     "end_time": "2021-02-14T23:54:53.211949Z",
     "start_time": "2021-02-14T23:54:46.723810Z"
    }
   },
   "outputs": [],
   "source": [
    "#classificacao_geral_vest_fatec = urlListaClassificacaoVestibular('https://www.vestibularfatec.com.br/classificacao/fatec.asp')\n",
    "classificacao_geral_vest_fatec = webdriver.Chrome()\n",
    "classificacao_geral_vest_fatec.get(\"https://www.vestibularfatec.com.br/classificacao/fatec.asp\")"
   ]
  },
  {
   "cell_type": "code",
   "execution_count": 4,
   "metadata": {
    "ExecuteTime": {
     "end_time": "2021-02-12T17:31:25.521538Z",
     "start_time": "2021-02-12T17:31:25.509522Z"
    }
   },
   "outputs": [],
   "source": [
    "#PRECISA MELHORAR A LÓGICA. ANTES DE CRIAR OBJETO, VERIFICAR SE O DATAFRAME JÁ TEM CSV"
   ]
  },
  {
   "cell_type": "code",
   "execution_count": 16,
   "metadata": {
    "ExecuteTime": {
     "end_time": "2021-02-14T23:55:00.916179Z",
     "start_time": "2021-02-14T23:55:00.858179Z"
    }
   },
   "outputs": [],
   "source": [
    "# não precisa disso agora.\n",
    "selectFatecs = Select(classificacao_geral_vest_fatec.find_element_by_id('CodFatec'))\n"
   ]
  },
  {
   "cell_type": "code",
   "execution_count": 17,
   "metadata": {
    "ExecuteTime": {
     "end_time": "2021-02-14T23:55:10.819965Z",
     "start_time": "2021-02-14T23:55:03.996182Z"
    }
   },
   "outputs": [],
   "source": [
    "listaFatecs = criarDicionario(selectFatecs,['id','fatec'])"
   ]
  },
  {
   "cell_type": "code",
   "execution_count": 6,
   "metadata": {
    "ExecuteTime": {
     "end_time": "2021-02-14T23:41:45.270314Z",
     "start_time": "2021-02-14T23:41:45.241315Z"
    }
   },
   "outputs": [
    {
     "data": {
      "text/plain": [
       "73"
      ]
     },
     "execution_count": 6,
     "metadata": {},
     "output_type": "execute_result"
    }
   ],
   "source": [
    "len(listaFatecs)"
   ]
  },
  {
   "cell_type": "code",
   "execution_count": 32,
   "metadata": {
    "ExecuteTime": {
     "end_time": "2021-02-12T18:58:02.944824Z",
     "start_time": "2021-02-12T18:58:02.932823Z"
    }
   },
   "outputs": [],
   "source": [
    "#Criando o DataFrame a partir da lócica acima. Porém ajustar para ter a opção de "
   ]
  },
  {
   "cell_type": "code",
   "execution_count": 8,
   "metadata": {
    "ExecuteTime": {
     "end_time": "2021-02-12T17:31:33.336998Z",
     "start_time": "2021-02-12T17:31:33.220004Z"
    }
   },
   "outputs": [],
   "source": [
    "#COM OS DATAFRAMES CRIADOS, AGORA REALIZO A LÓCICA DE NAVEGAÇÃO"
   ]
  },
  {
   "cell_type": "markdown",
   "metadata": {},
   "source": [
    "# ROBO EM OPERAÇÃO"
   ]
  },
  {
   "cell_type": "code",
   "execution_count": 18,
   "metadata": {
    "ExecuteTime": {
     "end_time": "2021-02-14T23:55:10.834979Z",
     "start_time": "2021-02-14T23:55:10.823980Z"
    }
   },
   "outputs": [],
   "source": [
    "dfFatec = criarDataFrame(listaFatecs)"
   ]
  },
  {
   "cell_type": "code",
   "execution_count": 8,
   "metadata": {
    "ExecuteTime": {
     "end_time": "2021-02-14T23:41:51.600207Z",
     "start_time": "2021-02-14T23:41:51.580208Z"
    }
   },
   "outputs": [
    {
     "data": {
      "text/html": [
       "<div>\n",
       "<style scoped>\n",
       "    .dataframe tbody tr th:only-of-type {\n",
       "        vertical-align: middle;\n",
       "    }\n",
       "\n",
       "    .dataframe tbody tr th {\n",
       "        vertical-align: top;\n",
       "    }\n",
       "\n",
       "    .dataframe thead th {\n",
       "        text-align: right;\n",
       "    }\n",
       "</style>\n",
       "<table border=\"1\" class=\"dataframe\">\n",
       "  <thead>\n",
       "    <tr style=\"text-align: right;\">\n",
       "      <th></th>\n",
       "      <th>id</th>\n",
       "      <th>fatec</th>\n",
       "    </tr>\n",
       "  </thead>\n",
       "  <tbody>\n",
       "    <tr>\n",
       "      <th>0</th>\n",
       "      <td>71</td>\n",
       "      <td>Adamantina - Fatec Adamantina</td>\n",
       "    </tr>\n",
       "    <tr>\n",
       "      <th>1</th>\n",
       "      <td>3</td>\n",
       "      <td>Americana - Fatec Americana - Ministro Ralph B...</td>\n",
       "    </tr>\n",
       "    <tr>\n",
       "      <th>2</th>\n",
       "      <td>35</td>\n",
       "      <td>Araçatuba - Fatec Araçatuba - Prof. Fernando A...</td>\n",
       "    </tr>\n",
       "    <tr>\n",
       "      <th>3</th>\n",
       "      <td>67</td>\n",
       "      <td>Araraquara - Fatec Araraquara</td>\n",
       "    </tr>\n",
       "    <tr>\n",
       "      <th>4</th>\n",
       "      <td>68</td>\n",
       "      <td>Araras - Fatec Araras</td>\n",
       "    </tr>\n",
       "  </tbody>\n",
       "</table>\n",
       "</div>"
      ],
      "text/plain": [
       "   id                                              fatec\n",
       "0  71                      Adamantina - Fatec Adamantina\n",
       "1   3  Americana - Fatec Americana - Ministro Ralph B...\n",
       "2  35  Araçatuba - Fatec Araçatuba - Prof. Fernando A...\n",
       "3  67                      Araraquara - Fatec Araraquara\n",
       "4  68                              Araras - Fatec Araras"
      ]
     },
     "execution_count": 8,
     "metadata": {},
     "output_type": "execute_result"
    }
   ],
   "source": [
    "dfFatec.head()"
   ]
  },
  {
   "cell_type": "code",
   "execution_count": 11,
   "metadata": {
    "ExecuteTime": {
     "end_time": "2021-02-12T18:45:03.682903Z",
     "start_time": "2021-02-12T18:45:02.681500Z"
    }
   },
   "outputs": [],
   "source": [
    "#POPULAR O DATAFRAMECURSOS\n",
    "buscarCursosPopular('https://www.vestibularfatec.com.br/unidades-cursos/?q=')\n"
   ]
  },
  {
   "cell_type": "code",
   "execution_count": 19,
   "metadata": {
    "ExecuteTime": {
     "end_time": "2021-02-14T23:55:11.563004Z",
     "start_time": "2021-02-14T23:55:11.544006Z"
    }
   },
   "outputs": [],
   "source": [
    "dfCursos = pd.read_csv('ds/listaCursos.csv',sep=';')"
   ]
  },
  {
   "cell_type": "code",
   "execution_count": 10,
   "metadata": {
    "ExecuteTime": {
     "end_time": "2021-02-14T23:42:06.318586Z",
     "start_time": "2021-02-14T23:42:06.299590Z"
    }
   },
   "outputs": [
    {
     "data": {
      "text/html": [
       "<div>\n",
       "<style scoped>\n",
       "    .dataframe tbody tr th:only-of-type {\n",
       "        vertical-align: middle;\n",
       "    }\n",
       "\n",
       "    .dataframe tbody tr th {\n",
       "        vertical-align: top;\n",
       "    }\n",
       "\n",
       "    .dataframe thead th {\n",
       "        text-align: right;\n",
       "    }\n",
       "</style>\n",
       "<table border=\"1\" class=\"dataframe\">\n",
       "  <thead>\n",
       "    <tr style=\"text-align: right;\">\n",
       "      <th></th>\n",
       "      <th>id</th>\n",
       "      <th>curso</th>\n",
       "    </tr>\n",
       "  </thead>\n",
       "  <tbody>\n",
       "    <tr>\n",
       "      <th>0</th>\n",
       "      <td>245</td>\n",
       "      <td>Gestão Empresarial - EaD</td>\n",
       "    </tr>\n",
       "    <tr>\n",
       "      <th>1</th>\n",
       "      <td>247</td>\n",
       "      <td>Agroindústria</td>\n",
       "    </tr>\n",
       "    <tr>\n",
       "      <th>2</th>\n",
       "      <td>75</td>\n",
       "      <td>Agronegócio</td>\n",
       "    </tr>\n",
       "    <tr>\n",
       "      <th>3</th>\n",
       "      <td>76</td>\n",
       "      <td>Alimentos</td>\n",
       "    </tr>\n",
       "    <tr>\n",
       "      <th>4</th>\n",
       "      <td>266</td>\n",
       "      <td>Análise de Processos Agroindustriais</td>\n",
       "    </tr>\n",
       "  </tbody>\n",
       "</table>\n",
       "</div>"
      ],
      "text/plain": [
       "    id                                 curso\n",
       "0  245              Gestão Empresarial - EaD\n",
       "1  247                         Agroindústria\n",
       "2   75                          Agronegócio \n",
       "3   76                             Alimentos\n",
       "4  266  Análise de Processos Agroindustriais"
      ]
     },
     "execution_count": 10,
     "metadata": {},
     "output_type": "execute_result"
    }
   ],
   "source": [
    "dfCursos.head()"
   ]
  },
  {
   "cell_type": "code",
   "execution_count": 20,
   "metadata": {
    "ExecuteTime": {
     "end_time": "2021-02-14T23:55:15.445401Z",
     "start_time": "2021-02-14T23:55:15.423398Z"
    }
   },
   "outputs": [
    {
     "data": {
      "text/plain": [
       "'\\ncod_curso-> Sitema da Calculadora\\ncod_instituicao -> Sistema da Calculadora\\nano -> ano do vestibular\\nsemeste-> semestre do vestibular\\nperiodo -> da busca (UPPER())\\nROBO DEMANDA\\nqtde_vagas-> preencher através de outro robo\\nqtde_inscrito->\\ndemanda-> realizar o cálculo\\nnota_corte -> nota min\\nnota_maxima -> nota max\\n\\n\\n'"
      ]
     },
     "execution_count": 20,
     "metadata": {},
     "output_type": "execute_result"
    }
   ],
   "source": [
    "resultado_vestibular_da_fatec = []\n",
    "resultado_vestibular_da_fatec2 = [] #Organiza cada fatec em uma array.\n",
    "\n",
    "\n",
    "'''\n",
    "lista_info_vestibular_fatec = {\n",
    "    'cod_curso':'' ,\n",
    "    'nome_curso':'',\n",
    "    'cod_instituicao':'',\n",
    "    'instituicao':'',\n",
    "    'ano':'', \n",
    "    'semestre':'',\n",
    "    'periodo':'',\n",
    "    'qtde_vagas':'',\n",
    "    'qtde_inscrito':'',\n",
    "    'demanda':'',\n",
    "    'nota_corte':'',\n",
    "    'nota_maxima':''\n",
    "}\n",
    "'''\n",
    "#inf\n",
    "'''\n",
    "cod_curso-> Sitema da Calculadora\n",
    "cod_instituicao -> Sistema da Calculadora\n",
    "ano -> ano do vestibular\n",
    "semeste-> semestre do vestibular\n",
    "periodo -> da busca (UPPER())\n",
    "ROBO DEMANDA\n",
    "qtde_vagas-> preencher através de outro robo\n",
    "qtde_inscrito->\n",
    "demanda-> realizar o cálculo\n",
    "nota_corte -> nota min\n",
    "nota_maxima -> nota max\n",
    "\n",
    "\n",
    "'''\n"
   ]
  },
  {
   "cell_type": "code",
   "execution_count": null,
   "metadata": {
    "ExecuteTime": {
     "end_time": "2021-02-13T19:56:03.307067Z",
     "start_time": "2021-02-13T19:56:03.297092Z"
    }
   },
   "outputs": [],
   "source": []
  },
  {
   "cell_type": "markdown",
   "metadata": {},
   "source": [
    "# PASSO A PASSO DA LÓGICA\n",
    "SERÁ FEITO UMA NAVEGAÇÃO SEGUINDO A SEGUINTE REGRA:\n",
    "    -> OS DATAFRAMES ESTÃO POPULADOS\n",
    "    A CADA FATEC DA LISTA, VISITAR A PÁGINA DOS CURSOS QUE ELA OFERECERAM. ENTRAR EM CADA UMA DAS OPÇÕES E IR PARA A TELA DE VERIFICAR LISTA DE CHAMADA."
   ]
  },
  {
   "cell_type": "code",
   "execution_count": 21,
   "metadata": {
    "ExecuteTime": {
     "end_time": "2021-02-15T00:00:53.170433Z",
     "start_time": "2021-02-14T23:55:18.960880Z"
    },
    "scrolled": true
   },
   "outputs": [
    {
     "name": "stderr",
     "output_type": "stream",
     "text": [
      "\r",
      "  0%|          | 0/5 [00:00<?, ?it/s]"
     ]
    },
    {
     "name": "stdout",
     "output_type": "stream",
     "text": [
      "Adamantina - Fatec Adamantina - Ciência de Dados (Noite)\n",
      "NOTA MÁXIMA = 55,00 | NOTA DE CORTE = 35,75\n",
      "Adamantina - Fatec Adamantina - Gestão Comercial (Noite)\n",
      "NOTA MÁXIMA = 56,50 | NOTA DE CORTE = 39,55\n"
     ]
    },
    {
     "name": "stderr",
     "output_type": "stream",
     "text": [
      "\r",
      " 20%|██        | 1/5 [00:34<02:19, 34.83s/it]"
     ]
    },
    {
     "name": "stdout",
     "output_type": "stream",
     "text": [
      "Americana - Fatec Americana - Ministro Ralph Biasi - Análise e Desenvolvimento de Sistemas (Tarde)\n",
      "NOTA MÁXIMA = 50,00 | NOTA DE CORTE = 34,38\n",
      "Americana - Fatec Americana - Ministro Ralph Biasi - Análise e Desenvolvimento de Sistemas (Manhã)\n",
      "NOTA MÁXIMA = 56,50 | NOTA DE CORTE = 41,25\n",
      "Americana - Fatec Americana - Ministro Ralph Biasi - Gestão Empresarial (EaD)\n",
      "NOTA MÁXIMA = 56,50 | NOTA DE CORTE = 46,75\n",
      "Americana - Fatec Americana - Ministro Ralph Biasi - Gestão Empresarial (Manhã)\n",
      "NOTA MÁXIMA = 53,68 | NOTA DE CORTE = 38,78\n",
      "Americana - Fatec Americana - Ministro Ralph Biasi - Gestão Empresarial (Noite)\n",
      "NOTA MÁXIMA = 55,00 | NOTA DE CORTE = 46,75\n",
      "Americana - Fatec Americana - Ministro Ralph Biasi - Jogos Digitais (Noite)\n",
      "NOTA MÁXIMA = 56,50 | NOTA DE CORTE = 41,25\n",
      "Americana - Fatec Americana - Ministro Ralph Biasi - Logística (Manhã)\n",
      "NOTA MÁXIMA = 56,50 | NOTA DE CORTE = 34,38\n",
      "Americana - Fatec Americana - Ministro Ralph Biasi - Logística (Noite)\n",
      "NOTA MÁXIMA = 56,50 | NOTA DE CORTE = 42,38\n",
      "Americana - Fatec Americana - Ministro Ralph Biasi - Produção Têxtil (Noite)\n",
      "NOTA MÁXIMA = 55,00 | NOTA DE CORTE = 31,08\n",
      "Americana - Fatec Americana - Ministro Ralph Biasi - Segurança da Informação (Manhã)\n",
      "NOTA MÁXIMA = 55,00 | NOTA DE CORTE = 34,38\n",
      "Americana - Fatec Americana - Ministro Ralph Biasi - Segurança da Informação (Noite)\n",
      "NOTA MÁXIMA = 55,00 | NOTA DE CORTE = 44,00\n",
      "Americana - Fatec Americana - Ministro Ralph Biasi - Têxtil e Moda (Manhã)\n",
      "NOTA MÁXIMA = 56,50 | NOTA DE CORTE = 40,00\n"
     ]
    },
    {
     "name": "stderr",
     "output_type": "stream",
     "text": [
      "\r",
      " 40%|████      | 2/5 [03:20<03:41, 73.96s/it]"
     ]
    },
    {
     "name": "stdout",
     "output_type": "stream",
     "text": [
      "Araçatuba - Fatec Araçatuba - Prof. Fernando Amaral de Almeida Prado - Análise e Desenvolvimento de Sistemas (Manhã)\n",
      "NOTA MÁXIMA = 52,25 | NOTA DE CORTE = 34,38\n",
      "Araçatuba - Fatec Araçatuba - Prof. Fernando Amaral de Almeida Prado - Biocombustíveis  (Noite)\n",
      "NOTA MÁXIMA = 56,50 | NOTA DE CORTE = 33,90\n",
      "Araçatuba - Fatec Araçatuba - Prof. Fernando Amaral de Almeida Prado - Gestão Empresarial (EaD)\n",
      "NOTA MÁXIMA = 56,50 | NOTA DE CORTE = 46,61\n"
     ]
    },
    {
     "name": "stderr",
     "output_type": "stream",
     "text": [
      "\r",
      " 60%|██████    | 3/5 [04:09<02:13, 66.60s/it]"
     ]
    },
    {
     "name": "stdout",
     "output_type": "stream",
     "text": [
      "Araraquara - Fatec Araraquara - Gestão Comercial (Noite)\n",
      "NOTA MÁXIMA = 56,50 | NOTA DE CORTE = 44,00\n",
      "Araraquara - Fatec Araraquara - Gestão Empresarial (Manhã)\n",
      "NOTA MÁXIMA = 55,00 | NOTA DE CORTE = 39,55\n",
      "Araraquara - Fatec Araraquara - Segurança da Informação (Noite)\n",
      "NOTA MÁXIMA = 56,50 | NOTA DE CORTE = 46,75\n"
     ]
    },
    {
     "name": "stderr",
     "output_type": "stream",
     "text": [
      "\r",
      " 80%|████████  | 4/5 [04:59<01:01, 61.47s/it]"
     ]
    },
    {
     "name": "stdout",
     "output_type": "stream",
     "text": [
      "Araras - Fatec Araras - Desenvolvimento de Software Multiplataforma (Noite)\n",
      "NOTA MÁXIMA = 56,50 | NOTA DE CORTE = 40,15\n",
      "Araras - Fatec Araras - Gestão Empresarial (Noite)\n",
      "NOTA MÁXIMA = 55,00 | NOTA DE CORTE = 41,25\n"
     ]
    },
    {
     "name": "stderr",
     "output_type": "stream",
     "text": [
      "100%|██████████| 5/5 [05:34<00:00, 66.83s/it]\n"
     ]
    }
   ],
   "source": [
    "for i in tqdm(range(len (dfFatec.head()))):\n",
    "    resultado_por_fatec=[]\n",
    "    id_ = dfFatec.loc[i,'id']\n",
    "    fatec_ = dfFatec.loc[i,'fatec']\n",
    "    #CARREGA UMA LISTA COM OS DADOS DO SELECT DA PAGINA. RECEBE OS DADOS DA FATEC\n",
    "    selectFatecs = Select(classificacao_geral_vest_fatec.find_element_by_id('CodFatec'))\n",
    "    #NAVEGA NA FATEC DA VEZ. ELE FAZ ESSE CICLO, SEGUINDO O DATAFRAME. PREENCHIDO EM OUTRO MOMENTO OU PELA FUNÇÃO OU PELO CSV\n",
    "    selectFatecs.select_by_visible_text(fatec_)\n",
    "    #APÓS SELECIONAR NO COMBO A FATEC - CLICA NO BOTÃO PARA IR PARA A PÁGINA DA ESCOLHA DO CURSO\n",
    "    classificacao_geral_vest_fatec.find_element_by_xpath('//*[@id=\"formClassificacao\"]/div[2]/button').click()\n",
    "    #SEGURA A PÁGINA PARA QUE ELA POSSA ESTAR 100% CARREGADA PARA A PRÓXIMA ETAPA\n",
    "    time.sleep(4)\n",
    "    #PREENCHE A LISTA DE CURSOS OFERECIDAS NA FATEC SELECIONADA ANTERIRMENTE\n",
    "    selectCursos = Select(classificacao_geral_vest_fatec.find_element_by_id('CodEscolaCurso'))\n",
    "    #CRIA UM DICIONARIO PARA FACILITAR A NAVEGAÇÃO, ATRAVÉS DE UMA FUNÇÃO \n",
    "    listaDeCursos = criarDicionario(selectCursos,['id','curso'])\n",
    "    #SEGURA A PÁGINA\n",
    "    time.sleep(2)\n",
    "\n",
    "    #print(f'quantidade de cursos {len(selectCursos.options)}')\n",
    "    #ENTRA EM UM LOOP PARA VISITAR TODOS OS CURSOS DA FATEC SELECIONADA\n",
    "    for c in range(len (listaDeCursos)):\n",
    "        lista_info_vestibular_fatec = {}\n",
    "        #RECARREGA O OBJETO PARA NÃO PERDER O PONTEIRO. DÁ PARA MELHORAR ESSE TRECHO\n",
    "        selectCursos = Select(classificacao_geral_vest_fatec.find_element_by_id('CodEscolaCurso'))\n",
    "        print(f'{fatec_} - {listaDeCursos[c][\"curso\"]}')\n",
    "        #ESSE VERIFICADOR IMPEDE QUE A OPÇÃO SELECIONE SEJA ITERADA\n",
    "        if 'Selecione...' not in listaDeCursos[c]['curso']:\n",
    "            #selectCursos.select_by_visible_text(listaDeCursos[c]['curso'])\n",
    "            #RECUPERO O ID DO CURSO E PASSO PARA A FUNÇÃO DO SELENIUM PARA SELECIONAR O ITEM NO SELECT\n",
    "            idC = str(listaDeCursos[c]['id'])\n",
    "            selectCursos.select_by_value(idC)\n",
    "            #REALIZO O CLICK PARA CHEGAR NA PRÓXIMA PÁGINA\n",
    "            classificacao_geral_vest_fatec.find_element_by_xpath('//*[@id=\"formClassificacao\"]/div[2]/button').click()   \n",
    "            #SEGURO UM POUCO A PÁGINA PARA QUE CONSIGA CARREGAR. VERIFICAR SE EXISTE METÓDO MELHOR PARA AGUARDAR\n",
    "            time.sleep(2)   \n",
    "            #PEGO A URL ATUAL E CONCATENO COM AS INFORMAÇÕES DE IDENTIFICAÇÃO DA FATEC E CURSO.\n",
    "            #ESSE TRECHO PRECISA SER ADAPTADO PARA CASO O USUÁRIO JÁ SEJA REDIRECIONADO PARA A PAGINA DESTINO. ISSO ACONTECE CASO NÃO TENHA LISTA DE CONVOCAÇÃO DE 2 CHAMADA\n",
    "            url_lista_1chamada = classificacao_geral_vest_fatec.current_url\n",
    "            #cod_curso = int(selectCursos.options[c].get_attribute(\"value\"))\n",
    "            url_lista_1chamada = (f'{url_lista_1chamada}?codfatec={id_}&codescolacurso={idC}&o=1')\n",
    "            #REALIZO O CLICK PARA CONSULTAR A TABELA DE CLASSIFICAÇÃO COM AS NOTAS\n",
    "            classificacao_geral_vest_fatec.find_element_by_xpath('/html/body/div[2]/div/div[2]/div/ul/li[1]/a').click()   \n",
    "            time.sleep(2)\n",
    "            #SELECIONO A TABELA COM O RESULTADO\n",
    "            tabela_ =classificacao_geral_vest_fatec.find_element_by_css_selector('table.table')\n",
    "            #AQUI ESTÁ UMA SACADA. COMO TEM CURSOS COM MUITOS INSCRITOS E AS VAGAS NO MÁXIMO SÃO DE 80 VAGAS. FAÇO UMA SELEÇÃO APENAS DOS 80 PRIMEIROS\n",
    "            resultado80 = tabela_.find_elements_by_css_selector('tbody tr:nth-child(-n + 100)')\n",
    "            #SEGURO A PÁGINA PARA QUE POSSA CARREGAR\n",
    "            time.sleep(5)\n",
    "            #A NOTA MÁXIMA SEMPRE SERÁ O PRIMEIRO REGISTRO. POR ISSO ATRIBUIÇÃO DIRETA.\n",
    "            nota_max= ajustarNota(resultado80[0])\n",
    "            #AGORA PRECISO DESCOBRIR A NOTA MINÍMA(CORTE) OU SEJA O ÚLTIMO CONVOCADO\n",
    "            nota_min = 0\n",
    "            #FACO UMA ITERAÇÃO DENTRO DA LISTA COM OS 80 PRIMEIROS. PODERIAM AJUSTAR PARA PERCORRER DE FORMA MULTIPLO DE 5. POIS O MÍNIMO DE VAGAS É 30\n",
    "            for i, linha in enumerate(resultado80):\n",
    "#                lista_info_vestibular_fatec = {}\n",
    "                #DENTRO DESSA ITERAÇÃO, TENHO CERTEZA QUE PEGAREI APENAS O CONVOCADO COM OO IF, SEMPRE ATUALIZANDO A NOTA MIN A CADA PASSAGEM. ITERROMPO, QUANDO A CONDIÇÃO DO IF FOR FALSE\n",
    "                if ('CONVOCADO' in linha.text.upper()):\n",
    "                    nota_min = ajustarNota(resultado80[i])\n",
    "                else:\n",
    "                    break            \n",
    "            print(f'NOTA MÁXIMA = {nota_max} | NOTA DE CORTE = {nota_min}')\n",
    "            #NESTA ETAPA JÁ POSSUO OS DADOS PARA CRIAR UM OBJETO COMOS RESULTADOS DESTE CURSO, PERIODO E DESTA FATEC\n",
    "            lista_info_vestibular_fatec['nome_curso'] = curso_periodo(listaDeCursos[c][\"curso\"])[0]#curso\n",
    "            lista_info_vestibular_fatec['instituicao'] = fatec_.strip()\n",
    "            lista_info_vestibular_fatec['ano']= 2021\n",
    "            lista_info_vestibular_fatec['semestre']= 1\n",
    "            lista_info_vestibular_fatec['periodo'] = curso_periodo(listaDeCursos[c][\"curso\"])[1]#periodo\n",
    "            lista_info_vestibular_fatec['nota_corte'] = nota_min\n",
    "            lista_info_vestibular_fatec['nota_maxima'] = nota_max\n",
    "            #ARMAZENO O RESULTADO EM UMA LISTA. CRIO DUAS MANEIRAS DISTINTAS\n",
    "            resultado_vestibular_da_fatec.append(lista_info_vestibular_fatec)            \n",
    "            resultado_por_fatec.append(lista_info_vestibular_fatec)\n",
    "            #RETORNO DUAS VEZES PARA RECOMEÇAR O PASSO A PASSO\n",
    "            classificacao_geral_vest_fatec.back()\n",
    "            classificacao_geral_vest_fatec.back()\n",
    "            resultado_vestibular_da_fatec2.append(resultado_por_fatec)\n",
    "    classificacao_geral_vest_fatec.back()\n",
    "    time.sleep(1)\n"
   ]
  },
  {
   "cell_type": "code",
   "execution_count": 25,
   "metadata": {
    "ExecuteTime": {
     "end_time": "2021-02-12T18:53:58.950134Z",
     "start_time": "2021-02-12T18:53:58.910113Z"
    },
    "collapsed": true
   },
   "outputs": [
    {
     "ename": "StaleElementReferenceException",
     "evalue": "Message: stale element reference: element is not attached to the page document\n  (Session info: chrome=88.0.4324.150)\n",
     "output_type": "error",
     "traceback": [
      "\u001b[1;31m---------------------------------------------------------------------------\u001b[0m",
      "\u001b[1;31mStaleElementReferenceException\u001b[0m            Traceback (most recent call last)",
      "\u001b[1;32m<ipython-input-25-fb4df94ea377>\u001b[0m in \u001b[0;36m<module>\u001b[1;34m\u001b[0m\n\u001b[1;32m----> 1\u001b[1;33m \u001b[0mselectFatecs\u001b[0m\u001b[1;33m.\u001b[0m\u001b[0moptions\u001b[0m\u001b[1;33m[\u001b[0m\u001b[1;36m1\u001b[0m\u001b[1;33m]\u001b[0m\u001b[1;33m.\u001b[0m\u001b[0mtext\u001b[0m\u001b[1;33m\u001b[0m\u001b[1;33m\u001b[0m\u001b[0m\n\u001b[0m",
      "\u001b[1;32m~\\anaconda3\\lib\\site-packages\\selenium\\webdriver\\support\\select.py\u001b[0m in \u001b[0;36moptions\u001b[1;34m(self)\u001b[0m\n\u001b[0;32m     45\u001b[0m     \u001b[1;32mdef\u001b[0m \u001b[0moptions\u001b[0m\u001b[1;33m(\u001b[0m\u001b[0mself\u001b[0m\u001b[1;33m)\u001b[0m\u001b[1;33m:\u001b[0m\u001b[1;33m\u001b[0m\u001b[1;33m\u001b[0m\u001b[0m\n\u001b[0;32m     46\u001b[0m         \u001b[1;34m\"\"\"Returns a list of all options belonging to this select tag\"\"\"\u001b[0m\u001b[1;33m\u001b[0m\u001b[1;33m\u001b[0m\u001b[0m\n\u001b[1;32m---> 47\u001b[1;33m         \u001b[1;32mreturn\u001b[0m \u001b[0mself\u001b[0m\u001b[1;33m.\u001b[0m\u001b[0m_el\u001b[0m\u001b[1;33m.\u001b[0m\u001b[0mfind_elements\u001b[0m\u001b[1;33m(\u001b[0m\u001b[0mBy\u001b[0m\u001b[1;33m.\u001b[0m\u001b[0mTAG_NAME\u001b[0m\u001b[1;33m,\u001b[0m \u001b[1;34m'option'\u001b[0m\u001b[1;33m)\u001b[0m\u001b[1;33m\u001b[0m\u001b[1;33m\u001b[0m\u001b[0m\n\u001b[0m\u001b[0;32m     48\u001b[0m \u001b[1;33m\u001b[0m\u001b[0m\n\u001b[0;32m     49\u001b[0m     \u001b[1;33m@\u001b[0m\u001b[0mproperty\u001b[0m\u001b[1;33m\u001b[0m\u001b[1;33m\u001b[0m\u001b[0m\n",
      "\u001b[1;32m~\\anaconda3\\lib\\site-packages\\selenium\\webdriver\\remote\\webelement.py\u001b[0m in \u001b[0;36mfind_elements\u001b[1;34m(self, by, value)\u001b[0m\n\u001b[0;32m    682\u001b[0m                 \u001b[0mvalue\u001b[0m \u001b[1;33m=\u001b[0m \u001b[1;34m'[name=\"%s\"]'\u001b[0m \u001b[1;33m%\u001b[0m \u001b[0mvalue\u001b[0m\u001b[1;33m\u001b[0m\u001b[1;33m\u001b[0m\u001b[0m\n\u001b[0;32m    683\u001b[0m \u001b[1;33m\u001b[0m\u001b[0m\n\u001b[1;32m--> 684\u001b[1;33m         return self._execute(Command.FIND_CHILD_ELEMENTS,\n\u001b[0m\u001b[0;32m    685\u001b[0m                              {\"using\": by, \"value\": value})['value']\n\u001b[0;32m    686\u001b[0m \u001b[1;33m\u001b[0m\u001b[0m\n",
      "\u001b[1;32m~\\anaconda3\\lib\\site-packages\\selenium\\webdriver\\remote\\webelement.py\u001b[0m in \u001b[0;36m_execute\u001b[1;34m(self, command, params)\u001b[0m\n\u001b[0;32m    631\u001b[0m             \u001b[0mparams\u001b[0m \u001b[1;33m=\u001b[0m \u001b[1;33m{\u001b[0m\u001b[1;33m}\u001b[0m\u001b[1;33m\u001b[0m\u001b[1;33m\u001b[0m\u001b[0m\n\u001b[0;32m    632\u001b[0m         \u001b[0mparams\u001b[0m\u001b[1;33m[\u001b[0m\u001b[1;34m'id'\u001b[0m\u001b[1;33m]\u001b[0m \u001b[1;33m=\u001b[0m \u001b[0mself\u001b[0m\u001b[1;33m.\u001b[0m\u001b[0m_id\u001b[0m\u001b[1;33m\u001b[0m\u001b[1;33m\u001b[0m\u001b[0m\n\u001b[1;32m--> 633\u001b[1;33m         \u001b[1;32mreturn\u001b[0m \u001b[0mself\u001b[0m\u001b[1;33m.\u001b[0m\u001b[0m_parent\u001b[0m\u001b[1;33m.\u001b[0m\u001b[0mexecute\u001b[0m\u001b[1;33m(\u001b[0m\u001b[0mcommand\u001b[0m\u001b[1;33m,\u001b[0m \u001b[0mparams\u001b[0m\u001b[1;33m)\u001b[0m\u001b[1;33m\u001b[0m\u001b[1;33m\u001b[0m\u001b[0m\n\u001b[0m\u001b[0;32m    634\u001b[0m \u001b[1;33m\u001b[0m\u001b[0m\n\u001b[0;32m    635\u001b[0m     \u001b[1;32mdef\u001b[0m \u001b[0mfind_element\u001b[0m\u001b[1;33m(\u001b[0m\u001b[0mself\u001b[0m\u001b[1;33m,\u001b[0m \u001b[0mby\u001b[0m\u001b[1;33m=\u001b[0m\u001b[0mBy\u001b[0m\u001b[1;33m.\u001b[0m\u001b[0mID\u001b[0m\u001b[1;33m,\u001b[0m \u001b[0mvalue\u001b[0m\u001b[1;33m=\u001b[0m\u001b[1;32mNone\u001b[0m\u001b[1;33m)\u001b[0m\u001b[1;33m:\u001b[0m\u001b[1;33m\u001b[0m\u001b[1;33m\u001b[0m\u001b[0m\n",
      "\u001b[1;32m~\\anaconda3\\lib\\site-packages\\selenium\\webdriver\\remote\\webdriver.py\u001b[0m in \u001b[0;36mexecute\u001b[1;34m(self, driver_command, params)\u001b[0m\n\u001b[0;32m    319\u001b[0m         \u001b[0mresponse\u001b[0m \u001b[1;33m=\u001b[0m \u001b[0mself\u001b[0m\u001b[1;33m.\u001b[0m\u001b[0mcommand_executor\u001b[0m\u001b[1;33m.\u001b[0m\u001b[0mexecute\u001b[0m\u001b[1;33m(\u001b[0m\u001b[0mdriver_command\u001b[0m\u001b[1;33m,\u001b[0m \u001b[0mparams\u001b[0m\u001b[1;33m)\u001b[0m\u001b[1;33m\u001b[0m\u001b[1;33m\u001b[0m\u001b[0m\n\u001b[0;32m    320\u001b[0m         \u001b[1;32mif\u001b[0m \u001b[0mresponse\u001b[0m\u001b[1;33m:\u001b[0m\u001b[1;33m\u001b[0m\u001b[1;33m\u001b[0m\u001b[0m\n\u001b[1;32m--> 321\u001b[1;33m             \u001b[0mself\u001b[0m\u001b[1;33m.\u001b[0m\u001b[0merror_handler\u001b[0m\u001b[1;33m.\u001b[0m\u001b[0mcheck_response\u001b[0m\u001b[1;33m(\u001b[0m\u001b[0mresponse\u001b[0m\u001b[1;33m)\u001b[0m\u001b[1;33m\u001b[0m\u001b[1;33m\u001b[0m\u001b[0m\n\u001b[0m\u001b[0;32m    322\u001b[0m             response['value'] = self._unwrap_value(\n\u001b[0;32m    323\u001b[0m                 response.get('value', None))\n",
      "\u001b[1;32m~\\anaconda3\\lib\\site-packages\\selenium\\webdriver\\remote\\errorhandler.py\u001b[0m in \u001b[0;36mcheck_response\u001b[1;34m(self, response)\u001b[0m\n\u001b[0;32m    240\u001b[0m                 \u001b[0malert_text\u001b[0m \u001b[1;33m=\u001b[0m \u001b[0mvalue\u001b[0m\u001b[1;33m[\u001b[0m\u001b[1;34m'alert'\u001b[0m\u001b[1;33m]\u001b[0m\u001b[1;33m.\u001b[0m\u001b[0mget\u001b[0m\u001b[1;33m(\u001b[0m\u001b[1;34m'text'\u001b[0m\u001b[1;33m)\u001b[0m\u001b[1;33m\u001b[0m\u001b[1;33m\u001b[0m\u001b[0m\n\u001b[0;32m    241\u001b[0m             \u001b[1;32mraise\u001b[0m \u001b[0mexception_class\u001b[0m\u001b[1;33m(\u001b[0m\u001b[0mmessage\u001b[0m\u001b[1;33m,\u001b[0m \u001b[0mscreen\u001b[0m\u001b[1;33m,\u001b[0m \u001b[0mstacktrace\u001b[0m\u001b[1;33m,\u001b[0m \u001b[0malert_text\u001b[0m\u001b[1;33m)\u001b[0m\u001b[1;33m\u001b[0m\u001b[1;33m\u001b[0m\u001b[0m\n\u001b[1;32m--> 242\u001b[1;33m         \u001b[1;32mraise\u001b[0m \u001b[0mexception_class\u001b[0m\u001b[1;33m(\u001b[0m\u001b[0mmessage\u001b[0m\u001b[1;33m,\u001b[0m \u001b[0mscreen\u001b[0m\u001b[1;33m,\u001b[0m \u001b[0mstacktrace\u001b[0m\u001b[1;33m)\u001b[0m\u001b[1;33m\u001b[0m\u001b[1;33m\u001b[0m\u001b[0m\n\u001b[0m\u001b[0;32m    243\u001b[0m \u001b[1;33m\u001b[0m\u001b[0m\n\u001b[0;32m    244\u001b[0m     \u001b[1;32mdef\u001b[0m \u001b[0m_value_or_default\u001b[0m\u001b[1;33m(\u001b[0m\u001b[0mself\u001b[0m\u001b[1;33m,\u001b[0m \u001b[0mobj\u001b[0m\u001b[1;33m,\u001b[0m \u001b[0mkey\u001b[0m\u001b[1;33m,\u001b[0m \u001b[0mdefault\u001b[0m\u001b[1;33m)\u001b[0m\u001b[1;33m:\u001b[0m\u001b[1;33m\u001b[0m\u001b[1;33m\u001b[0m\u001b[0m\n",
      "\u001b[1;31mStaleElementReferenceException\u001b[0m: Message: stale element reference: element is not attached to the page document\n  (Session info: chrome=88.0.4324.150)\n"
     ]
    }
   ],
   "source": []
  },
  {
   "cell_type": "code",
   "execution_count": 114,
   "metadata": {
    "ExecuteTime": {
     "end_time": "2021-02-13T01:29:34.487936Z",
     "start_time": "2021-02-13T01:29:26.086390Z"
    }
   },
   "outputs": [],
   "source": [
    "resultado_tabela = webdriver.Chrome()\n",
    "resultado_tabela.get(\"https://www.vestibularfatec.com.br/classificacao/lista.asp?codfatec=1&codescolacurso=1999&o=1\")"
   ]
  },
  {
   "cell_type": "code",
   "execution_count": 140,
   "metadata": {
    "ExecuteTime": {
     "end_time": "2021-02-13T02:05:49.786498Z",
     "start_time": "2021-02-13T02:05:49.701503Z"
    }
   },
   "outputs": [],
   "source": [
    "#tabela_ = resultado_tabela.find_elements_by_css_selector('.table.table-bordered.table-striped')\n",
    "#tabela_ = resultado_tabela.find_element_by_xpath('/html/body/div[2]/div/div[2]/div/div[2]/table')\n",
    "\n",
    "#tabela_ = resultado_tabela.find_elements_by_class_name('table')\n",
    "\n",
    "tabela_ =resultado_tabela.find_element_by_css_selector('table.table')\n",
    "\n",
    "\n"
   ]
  },
  {
   "cell_type": "code",
   "execution_count": 191,
   "metadata": {
    "ExecuteTime": {
     "end_time": "2021-02-13T03:02:57.927855Z",
     "start_time": "2021-02-13T03:02:56.182866Z"
    }
   },
   "outputs": [
    {
     "name": "stdout",
     "output_type": "stream",
     "text": [
      "Class. 0\n",
      "Nº Inscrição 1\n",
      "Nome 2\n",
      "Nota 3\n",
      "Afrodesc. 4\n",
      "Esc. Pública 5\n",
      "Português 6\n",
      "Matemática 7\n",
      "Situação 8\n"
     ]
    }
   ],
   "source": [
    "#-Processo para verificar a posição da NOTA e SITUAÇÃO\n",
    "pos_nota = 0\n",
    "pos_situacao = 0\n",
    "      \n",
    "for count,cell in enumerate(tabela_.find_elements_by_css_selector('thead th')):\n",
    "    print(cell.text,count)\n",
    "    if (cell.text =='Situação'):\n",
    "        pos_situacao = count\n",
    "    if (cell.text =='Nota'):\n",
    "        pos_nota = count\n"
   ]
  },
  {
   "cell_type": "raw",
   "metadata": {},
   "source": []
  },
  {
   "cell_type": "code",
   "execution_count": 151,
   "metadata": {
    "ExecuteTime": {
     "end_time": "2021-02-14T01:29:53.894826Z",
     "start_time": "2021-02-14T01:29:47.455370Z"
    }
   },
   "outputs": [],
   "source": [
    "demanda_por_curso = webdriver.Chrome()\n",
    "demanda_por_curso.get(\"https://www.vestibularfatec.com.br/demanda/\")"
   ]
  },
  {
   "cell_type": "code",
   "execution_count": 80,
   "metadata": {
    "ExecuteTime": {
     "end_time": "2021-02-13T21:40:29.947346Z",
     "start_time": "2021-02-13T21:40:29.912350Z"
    }
   },
   "outputs": [],
   "source": [
    "select_ano_sem =demanda_por_curso.find_element_by_name('ano-sem')"
   ]
  },
  {
   "cell_type": "code",
   "execution_count": 81,
   "metadata": {
    "ExecuteTime": {
     "end_time": "2021-02-13T21:40:40.463521Z",
     "start_time": "2021-02-13T21:40:40.429525Z"
    }
   },
   "outputs": [],
   "source": [
    "todos_anos_sem=select_ano_sem.find_elements_by_tag_name(\"option\")"
   ]
  },
  {
   "cell_type": "code",
   "execution_count": 82,
   "metadata": {
    "ExecuteTime": {
     "end_time": "2021-02-13T21:40:44.347430Z",
     "start_time": "2021-02-13T21:40:42.988897Z"
    }
   },
   "outputs": [
    {
     "name": "stdout",
     "output_type": "stream",
     "text": [
      "Value is: Selecione...\n",
      "Value is: 20211\n",
      "Value is: 20202\n",
      "Value is: 20201\n",
      "Value is: 20192\n",
      "Value is: 20191\n",
      "Value is: 20182\n",
      "Value is: 20181\n",
      "Value is: 20172\n",
      "Value is: 20171\n",
      "Value is: 20162\n",
      "Value is: 20161\n",
      "Value is: 20152\n",
      "Value is: 20151\n",
      "Value is: 20142\n",
      "Value is: 20141\n",
      "Value is: 20132\n",
      "Value is: 20131\n",
      "Value is: 20122\n",
      "Value is: 20121\n",
      "Value is: 20112\n",
      "Value is: 20111\n",
      "Value is: 20102\n",
      "Value is: 20101\n",
      "Value is: 20092\n",
      "Value is: 20091\n",
      "Value is: 20082\n",
      "Value is: 20081\n",
      "Value is: 20072\n",
      "Value is: 20071\n"
     ]
    }
   ],
   "source": [
    "for option in todos_anos_sem:\n",
    "    print(\"Value is: %s\" % option.get_attribute(\"value\"))\n",
    "    option.click()"
   ]
  },
  {
   "cell_type": "code",
   "execution_count": 84,
   "metadata": {
    "ExecuteTime": {
     "end_time": "2021-02-13T21:41:30.860768Z",
     "start_time": "2021-02-13T21:41:30.806774Z"
    }
   },
   "outputs": [],
   "source": [
    "todos_anos_sem[1].click()"
   ]
  },
  {
   "cell_type": "code",
   "execution_count": 87,
   "metadata": {
    "ExecuteTime": {
     "end_time": "2021-02-13T21:59:52.141208Z",
     "start_time": "2021-02-13T21:59:52.046210Z"
    }
   },
   "outputs": [],
   "source": []
  },
  {
   "cell_type": "code",
   "execution_count": 152,
   "metadata": {
    "ExecuteTime": {
     "end_time": "2021-02-14T01:30:04.213984Z",
     "start_time": "2021-02-14T01:30:03.084254Z"
    }
   },
   "outputs": [],
   "source": [
    "selectOptionsAnoSem = Select(demanda_por_curso.find_element_by_name('ano-sem'))\n",
    "selectOptionsAnoSem.select_by_value('20211') #informar o ano e semestre que quer capturar.\n",
    "frmdemanda = demanda_por_curso.find_element_by_id(\"formDemanda\")\n",
    "frmdemanda.find_element_by_css_selector('button.btn'). submit()"
   ]
  },
  {
   "cell_type": "code",
   "execution_count": 153,
   "metadata": {
    "ExecuteTime": {
     "end_time": "2021-02-14T01:30:20.608809Z",
     "start_time": "2021-02-14T01:30:15.283736Z"
    }
   },
   "outputs": [
    {
     "data": {
      "text/html": [
       "<div>\n",
       "<style scoped>\n",
       "    .dataframe tbody tr th:only-of-type {\n",
       "        vertical-align: middle;\n",
       "    }\n",
       "\n",
       "    .dataframe tbody tr th {\n",
       "        vertical-align: top;\n",
       "    }\n",
       "\n",
       "    .dataframe thead th {\n",
       "        text-align: right;\n",
       "    }\n",
       "</style>\n",
       "<table border=\"1\" class=\"dataframe\">\n",
       "  <thead>\n",
       "    <tr style=\"text-align: right;\">\n",
       "      <th></th>\n",
       "      <th>id</th>\n",
       "      <th>fatec</th>\n",
       "    </tr>\n",
       "  </thead>\n",
       "  <tbody>\n",
       "    <tr>\n",
       "      <th>0</th>\n",
       "      <td>1</td>\n",
       "      <td>Fatec Adamantina</td>\n",
       "    </tr>\n",
       "    <tr>\n",
       "      <th>1</th>\n",
       "      <td>2</td>\n",
       "      <td>Fatec Americana - Ministro Ralph Biasi</td>\n",
       "    </tr>\n",
       "    <tr>\n",
       "      <th>2</th>\n",
       "      <td>3</td>\n",
       "      <td>Fatec Araçatuba - Prof. Fernando Amaral de Alm...</td>\n",
       "    </tr>\n",
       "    <tr>\n",
       "      <th>3</th>\n",
       "      <td>4</td>\n",
       "      <td>Fatec Araraquara</td>\n",
       "    </tr>\n",
       "    <tr>\n",
       "      <th>4</th>\n",
       "      <td>5</td>\n",
       "      <td>Fatec Araras</td>\n",
       "    </tr>\n",
       "  </tbody>\n",
       "</table>\n",
       "</div>"
      ],
      "text/plain": [
       "   id                                              fatec\n",
       "0   1                                   Fatec Adamantina\n",
       "1   2             Fatec Americana - Ministro Ralph Biasi\n",
       "2   3  Fatec Araçatuba - Prof. Fernando Amaral de Alm...\n",
       "3   4                                   Fatec Araraquara\n",
       "4   5                                       Fatec Araras"
      ]
     },
     "execution_count": 153,
     "metadata": {},
     "output_type": "execute_result"
    }
   ],
   "source": [
    "selectFatecsDemanda = Select(demanda_por_curso.find_element_by_id('FATEC'))\n",
    "listaFatecsDemanda = criarDicionario(selectFatecsDemanda,['id','fatec'])\n",
    "dfFatecDemanda = criarDataFrame(listaFatecsDemanda)\n",
    "resydfFatecDemanda.head()"
   ]
  },
  {
   "cell_type": "code",
   "execution_count": 154,
   "metadata": {
    "ExecuteTime": {
     "end_time": "2021-02-14T01:30:26.924347Z",
     "start_time": "2021-02-14T01:30:24.950240Z"
    }
   },
   "outputs": [
    {
     "name": "stderr",
     "output_type": "stream",
     "text": [
      "\r",
      "  0%|          | 0/1 [00:00<?, ?it/s]"
     ]
    },
    {
     "name": "stdout",
     "output_type": "stream",
     "text": [
      "Fatec Adamantina - 1\n",
      "Ciência de Dados 0\n",
      "Noite 1\n",
      "68 2\n",
      "35 3\n",
      "1,94 4\n",
      "Gestão Comercial 5\n",
      "Noite 6\n",
      "92 7\n",
      "35 8\n",
      "2,63 9\n"
     ]
    },
    {
     "name": "stderr",
     "output_type": "stream",
     "text": [
      "100%|██████████| 1/1 [00:01<00:00,  1.95s/it]\n"
     ]
    }
   ],
   "source": [
    "armazenando_resultado_demanda=[]\n",
    "for i in tqdm(range(len (dfFatecDemanda.head(1)))):\n",
    "    parcial_demanda = {}\n",
    "    id_ = dfFatecDemanda.loc[i,'id']\n",
    "    fatec_ = dfFatecDemanda.loc[i,'fatec']\n",
    "    selectFatecs = Select(demanda_por_curso.find_element_by_id('FATEC'))\n",
    "    selectFatecs.select_by_visible_text(fatec_)\n",
    "    print(f'{fatec_} - {i+1}')\n",
    "\n",
    "    demanda_por_curso.find_element_by_css_selector('button.btn'). submit()  \n",
    "    \n",
    "    tabela_demanda = demanda_por_curso.find_element_by_css_selector('table.table')\n",
    "    results=[]\n",
    "    for count,cell in enumerate(tabela_demanda.find_elements_by_css_selector('tbody td')):\n",
    "        \n",
    "        results.append(cell)\n",
    "        print(cell.text,count)    \n",
    "    time.sleep(1)\n",
    "    x = {'fatec':fatec_,'demanda'result:results}\n",
    "\n",
    "    #demanda_por_curso.back()\n"
   ]
  },
  {
   "cell_type": "code",
   "execution_count": null,
   "metadata": {
    "ExecuteTime": {
     "end_time": "2021-02-14T01:19:56.162974Z",
     "start_time": "2021-02-14T01:19:43.448266Z"
    }
   },
   "outputs": [],
   "source": [
    "\n"
   ]
  },
  {
   "cell_type": "code",
   "execution_count": 135,
   "metadata": {
    "ExecuteTime": {
     "end_time": "2021-02-14T01:23:21.121202Z",
     "start_time": "2021-02-14T01:23:12.542220Z"
    }
   },
   "outputs": [],
   "source": []
  },
  {
   "cell_type": "code",
   "execution_count": null,
   "metadata": {},
   "outputs": [],
   "source": []
  }
 ],
 "metadata": {
  "kernelspec": {
   "display_name": "Python 3",
   "language": "python",
   "name": "python3"
  },
  "language_info": {
   "codemirror_mode": {
    "name": "ipython",
    "version": 3
   },
   "file_extension": ".py",
   "mimetype": "text/x-python",
   "name": "python",
   "nbconvert_exporter": "python",
   "pygments_lexer": "ipython3",
   "version": "3.8.5"
  },
  "toc": {
   "base_numbering": 1,
   "nav_menu": {},
   "number_sections": true,
   "sideBar": true,
   "skip_h1_title": false,
   "title_cell": "Table of Contents",
   "title_sidebar": "Contents",
   "toc_cell": false,
   "toc_position": {},
   "toc_section_display": true,
   "toc_window_display": false
  }
 },
 "nbformat": 4,
 "nbformat_minor": 4
}
